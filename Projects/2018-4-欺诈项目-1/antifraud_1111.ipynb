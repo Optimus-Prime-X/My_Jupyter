{
 "cells": [
  {
   "cell_type": "markdown",
   "metadata": {
    "deletable": true,
    "editable": true
   },
   "source": [
    "# Project1 量化金融信用评估实验"
   ]
  },
  {
   "cell_type": "code",
   "execution_count": 1,
   "metadata": {
    "collapsed": false,
    "deletable": true,
    "editable": true
   },
   "outputs": [],
   "source": [
    "import numpy as np\n",
    "import pandas as pd\n",
    "import datetime as dt"
   ]
  },
  {
   "cell_type": "markdown",
   "metadata": {
    "deletable": true,
    "editable": true
   },
   "source": [
    "## Read the dataset files."
   ]
  },
  {
   "cell_type": "code",
   "execution_count": 12,
   "metadata": {
    "collapsed": false,
    "deletable": true,
    "editable": true
   },
   "outputs": [
    {
     "name": "stdout",
     "output_type": "stream",
     "text": [
      "Shape of train_df: (98, 86)\n",
      "Shape of test_df: (40000, 83)\n",
      "Which fields are missing in the test dataset?\n",
      "set(['loan_status', 'id', 'member_id'])\n"
     ]
    }
   ],
   "source": [
    "dir_prefix = \"/home/ubuntu/workspace/data_set_public/public_data/\"\n",
    "\n",
    "train_dataset = \"project_LoanStats3d_securev1.csv\"\n",
    "sample_dataset = \"project_2015Sample.csv\"\n",
    "sample_df = pd.read_csv(dir_prefix + sample_dataset)\n",
    "train_df = pd.read_csv(dir_prefix + train_dataset, low_memory=False) # please note that this is a large file, it may take a little bit longer to read\n",
    "sample_df.head()\n",
    "print 'Shape of train_df:', sample_df.shape\n",
    "\n",
    "test_dataset = \"antifraud_proj1_test.csv\"\n",
    "test_df = pd.read_csv(dir_prefix + test_dataset, low_memory=False)\n",
    "print 'Shape of test_df:', test_df.shape\n",
    "print 'Which fields are missing in the test dataset?'\n",
    "print set(sample_df.columns) - set(test_df.columns)"
   ]
  },
  {
   "cell_type": "markdown",
   "metadata": {
    "deletable": true,
    "editable": true
   },
   "source": [
    "## 针对Sample_df的处理"
   ]
  },
  {
   "cell_type": "code",
   "execution_count": 3,
   "metadata": {
    "collapsed": false,
    "deletable": true,
    "editable": true
   },
   "outputs": [],
   "source": [
    "sample_df = pd.read_csv(dir_prefix + sample_dataset)\n",
    "sample_keys = list(sample_df.keys())\n",
    "train_keys = list(train_df.keys())\n",
    "del sample_keys[0],train_keys[0]\n",
    "sample_df = sample_df.drop(['id','member_id'], axis = 1)#删除id，member_id"
   ]
  },
  {
   "cell_type": "code",
   "execution_count": 4,
   "metadata": {
    "collapsed": false,
    "deletable": true,
    "editable": true
   },
   "outputs": [],
   "source": [
    "sample_df = pd.read_csv(dir_prefix + sample_dataset)\n",
    "sample_df['term'] = sample_df['term'].replace([' 60 months',' 36 months'],[1,0])#'term' 修改为0-1变量\n",
    "#sample_df['term']"
   ]
  },
  {
   "cell_type": "code",
   "execution_count": 5,
   "metadata": {
    "collapsed": false,
    "deletable": true,
    "editable": true
   },
   "outputs": [],
   "source": [
    "sample_df = pd.read_csv(dir_prefix + sample_dataset)\n",
    "del sample_df[\"emp_title\"]#'emp_title'职业删除"
   ]
  },
  {
   "cell_type": "code",
   "execution_count": 6,
   "metadata": {
    "collapsed": false,
    "deletable": true,
    "editable": true
   },
   "outputs": [],
   "source": [
    "sample_df = pd.read_csv(dir_prefix + sample_dataset)#‘emp_length’数字化\n",
    "emp_length = list(np.sort(list(sample_df['emp_length'].unique())))\n",
    "#print emp_length\n",
    "sample_df['emp_length']=sample_df['emp_length'].replace(['1 year', '10+ years', '2 years', '3 years', '4 years',\n",
    "                                 '5 years', '6 years', '7 years', '8 years', '9 years', \n",
    "                                 '< 1 year', 'n/a'],[1,10,2,3,4,5,6,7,8,9,0,0])\n",
    "#sample_df['emp_length']"
   ]
  },
  {
   "cell_type": "code",
   "execution_count": 7,
   "metadata": {
    "collapsed": false,
    "deletable": true,
    "editable": true
   },
   "outputs": [],
   "source": [
    "sample_df = pd.read_csv(dir_prefix + sample_dataset)\n",
    "#sample_df['home_ownership'].unique()\n",
    "sample_df['home_ownership'] = sample_df['home_ownership'].replace(['MORTGAGE', 'RENT', 'OWN'],[0,0.5,1])\n",
    "#sample_df['home_ownership']"
   ]
  },
  {
   "cell_type": "code",
   "execution_count": 8,
   "metadata": {
    "collapsed": false,
    "deletable": true,
    "editable": true
   },
   "outputs": [],
   "source": [
    "sample_df = pd.read_csv(dir_prefix + sample_dataset)\n",
    "#sample_df['verification_status'].unique()\n",
    "sample_df['verification_status'] = sample_df['verification_status'].replace(['Source Verified', \n",
    "                                                                             'Not Verified', 'Verified'],\n",
    "                                                                           [0.5,0,1])\n",
    "#sample_df['verification_status']"
   ]
  },
  {
   "cell_type": "code",
   "execution_count": 9,
   "metadata": {
    "collapsed": false,
    "deletable": true,
    "editable": true
   },
   "outputs": [],
   "source": [
    "sample_df = pd.read_csv(dir_prefix + sample_dataset)#因变量Y的量化，只将charge off视作坏用户，标为“1”，current和fully paid是好用户，标为“0”\n",
    "sample_df['loan_status'].unique()\n",
    "sample_df = sample_df[(sample_df['loan_status']=='Current') | (sample_df['loan_status']=='Charged Off') | (sample_df['loan_status']=='Fully Paid')]\n",
    "sample_df['loan_status'] = sample_df['loan_status'].replace(['Current','Fully Paid','Charged Off',],[0,0,1])\n",
    "#sample_df['loan_status'] "
   ]
  },
  {
   "cell_type": "code",
   "execution_count": 10,
   "metadata": {
    "collapsed": false,
    "deletable": true,
    "editable": true
   },
   "outputs": [],
   "source": [
    "sample_df = pd.read_csv(dir_prefix + sample_dataset)\n",
    "del sample_df['pymnt_plan']#数据值只有“n”，故删除\n",
    "del sample_df['desc']#描述\n",
    "sample_df['purpose'] = sample_df['purpose'].replace(['car','credit_card','debt_consolidation','educational',\n",
    "                                                     'home_improvement','house','major_purchase','medical',\n",
    "                                                     'moving','other','renewable_energy','small_business',\n",
    "                                                     'vacation','wedding'],[0.6,0.2,1.0,0.2,0.4,0.4,0.6,0.6,0.4,0.2,0.6,0.8,0.2,0.4])\n",
    "del sample_df['title']#和‘purpose’字段一致\n",
    "del sample_df['zip_code']#借贷程序的zip code 前三位\n",
    "\n",
    "#sample_df['purpose']"
   ]
  },
  {
   "cell_type": "code",
   "execution_count": 11,
   "metadata": {
    "collapsed": false,
    "deletable": true,
    "editable": true
   },
   "outputs": [
    {
     "data": {
      "text/plain": [
       "array(['DC', 'TX', 'PA', 'GA', 'FL', 'NY', 'CA', 'TN', 'KS', 'MA', 'RI',\n",
       "       'OH', 'OR', 'HI', 'SC', 'MD', 'AZ', 'WI', 'VA', 'CO', 'IN', 'LA',\n",
       "       'NC', 'NJ', 'MO', 'NM', 'IL', 'MI', 'SD', 'WA', 'NH', 'VT', 'AL',\n",
       "       'MN', 'CT', 'DE', 'NE', 'WV', 'MT', 'NV', 'OK', 'WY', 'AR', 'KY',\n",
       "       'MS', 'ME', 'UT', 'ND', 'AK'], dtype=object)"
      ]
     },
     "execution_count": 11,
     "metadata": {},
     "output_type": "execute_result"
    }
   ],
   "source": [
    "train_df['addr_state'].unique()"
   ]
  },
  {
   "cell_type": "code",
   "execution_count": 12,
   "metadata": {
    "collapsed": false,
    "deletable": true,
    "editable": true,
    "scrolled": true
   },
   "outputs": [],
   "source": [
    "#地区,我按照各地的人均GDP与总GDP，按照7:3的比例进行合计评分，并归一化\n",
    "sample_df = pd.read_csv(dir_prefix + sample_dataset)\n",
    "sample_df['addr_state'] = sample_df['addr_state'].replace(['DC', 'TX', 'PA', 'GA', 'FL', 'NY', 'CA', 'TN', 'KS', 'MA', \n",
    "                                                           'RI','OH', 'OR', 'HI', 'SC', 'MD', 'AZ', 'WI', 'VA', 'CO', \n",
    "                                                           'IN', 'LA','NC', 'NJ', 'MO', 'NM', 'IL', 'MI', 'SD', 'WA', \n",
    "                                                           'NH', 'VT', 'AL','MN', 'CT', 'DE', 'NE', 'WV', 'MT', 'NV',\n",
    "                                                           'OK', 'WY', 'AR', 'KY','MS', 'ME', 'UT', 'ND', 'AK'],\n",
    "                                                          [0.249494545,0.065555092,0.039895621,0.085444756,0.593361556,\n",
    "                                                              0.190277765,0.278189313,1,0.227317672,0.192702231,0.155311576,\n",
    "                                                              0.131447429,0.280336943,0.132540357,0.106452086,0.069307246,\n",
    "                                                              0.15253082,0.302445071,0.21218416,0.030257468,0.137946485,\n",
    "                                                              0.208228197,0.110989561,0,0.048207504,0.16335986,0.231921874,\n",
    "                                                              0.161796013,0.117910048,0.2777898,0.050846682,0.094623649,\n",
    "                                                              0.494175602,0.191919255,0.085791932,0.160341405,0.220064923,\n",
    "                                                              0.111679786,0.046895947,0.10685987,0.109896491,0.441591068,\n",
    "                                                              0.097945954,0.207944043,0.06716049,0.242232775,0.141853116,\n",
    "                                                              0.013158262,0.213121431])\n",
    "#sample_df['addr_state']"
   ]
  },
  {
   "cell_type": "code",
   "execution_count": null,
   "metadata": {
    "collapsed": true,
    "deletable": true,
    "editable": true
   },
   "outputs": [],
   "source": [
    "#‘dti’每月还款金额占总贷款额百分比"
   ]
  },
  {
   "cell_type": "code",
   "execution_count": 13,
   "metadata": {
    "collapsed": false,
    "deletable": true,
    "editable": true
   },
   "outputs": [],
   "source": [
    "sample_df = pd.read_csv(dir_prefix + sample_dataset)#两年内超过三十天的逾期次数\n",
    "#sample_df['delinq_2yrs']"
   ]
  },
  {
   "cell_type": "code",
   "execution_count": 235,
   "metadata": {
    "collapsed": false,
    "deletable": true,
    "editable": true
   },
   "outputs": [],
   "source": [
    "#最早有开始信贷的年月\n",
    "#sample_df['earliest_cr_liner']"
   ]
  },
  {
   "cell_type": "code",
   "execution_count": 14,
   "metadata": {
    "collapsed": false,
    "deletable": true,
    "editable": true
   },
   "outputs": [],
   "source": [
    "#上一次逾期距今的月数，nan代表没有逾期,取0，那么月份越高说明危险度越低，取月份数的倒数\n",
    "sample_df = pd.read_csv(dir_prefix + sample_dataset)\n",
    "#sample_df['mths_since_last_delinq'] = [1.0/i for i in sample_df['mths_since_last_delinq']]\n",
    "sample_df['mths_since_last_delinq']=sample_df['mths_since_last_delinq'].fillna(0)\n",
    "#sample_df['mths_since_last_delinq']"
   ]
  },
  {
   "cell_type": "code",
   "execution_count": 15,
   "metadata": {
    "collapsed": false,
    "deletable": true,
    "editable": true
   },
   "outputs": [],
   "source": [
    "#上一次有记录的月份数\n",
    "sample_df['mths_since_last_record'] = sample_df['mths_since_last_record'].fillna(0)\n",
    "#sample_df['mths_since_last_record'] "
   ]
  },
  {
   "cell_type": "code",
   "execution_count": 16,
   "metadata": {
    "collapsed": false,
    "deletable": true,
    "editable": true
   },
   "outputs": [],
   "source": [
    "sample_df = pd.read_csv(dir_prefix + sample_dataset)\n",
    "sample_df['revol_util'] = sample_df['revol_util'].str.strip('%').astype(float)/100\n",
    "#网上将百分比转化的方法：p_float = df['p_str'].str.strip(\"%\").astype(float)/100\n",
    "#sample_df['revol_util'] "
   ]
  },
  {
   "cell_type": "code",
   "execution_count": 17,
   "metadata": {
    "collapsed": false,
    "deletable": true,
    "editable": true
   },
   "outputs": [],
   "source": [
    "sample_df = pd.read_csv(dir_prefix + sample_dataset)\n",
    "#sample_df['mths_since_recent_bc_dlq'] = [1.0/i for i in sample_df['mths_since_recent_bc_dlq']]\n",
    "sample_df['mths_since_recent_bc_dlq'] = sample_df['mths_since_recent_bc_dlq'].fillna(0)"
   ]
  },
  {
   "cell_type": "code",
   "execution_count": 18,
   "metadata": {
    "collapsed": true,
    "deletable": true,
    "editable": true
   },
   "outputs": [],
   "source": [
    "sample_df = pd.read_csv(dir_prefix + sample_dataset)\n",
    "#sample_df['mths_since_recent_revol_delinq'] = [1.0/i for i in sample_df['mths_since_recent_revol_delinq']]\n",
    "sample_df['mths_since_recent_revol_delinq'] = sample_df['mths_since_recent_revol_delinq'].fillna(0)"
   ]
  },
  {
   "cell_type": "markdown",
   "metadata": {
    "deletable": true,
    "editable": true
   },
   "source": [
    "## 针对Train_df数据进行清理"
   ]
  },
  {
   "cell_type": "code",
   "execution_count": 13,
   "metadata": {
    "collapsed": false,
    "deletable": true,
    "editable": true
   },
   "outputs": [],
   "source": [
    "train_df['term'] = train_df['term'].replace([' 60 months',' 36 months'],[1,0])#'term' 修改为0-1变量"
   ]
  },
  {
   "cell_type": "code",
   "execution_count": 14,
   "metadata": {
    "collapsed": false,
    "deletable": true,
    "editable": true
   },
   "outputs": [],
   "source": [
    "train_df = train_df.drop(['id','member_id','issue_d','emp_title'], axis = 1)#删除id，member_id"
   ]
  },
  {
   "cell_type": "code",
   "execution_count": 15,
   "metadata": {
    "collapsed": false,
    "deletable": true,
    "editable": true
   },
   "outputs": [],
   "source": [
    "#print emp_length\n",
    "train_df['emp_length']=train_df['emp_length'].replace(['1 year', '10+ years', '2 years', '3 years', '4 years',\n",
    "                                 '5 years', '6 years', '7 years', '8 years', '9 years', \n",
    "                                 '< 1 year', 'n/a'],[1,10,2,3,4,5,6,7,8,9,0,0])\n",
    "#sample_df['emp_length']"
   ]
  },
  {
   "cell_type": "code",
   "execution_count": 16,
   "metadata": {
    "collapsed": false,
    "deletable": true,
    "editable": true
   },
   "outputs": [],
   "source": [
    "#train_df['home_ownership'].unique()\n",
    "train_df['home_ownership'] = train_df['home_ownership'].replace(['MORTGAGE', 'RENT', 'OWN','ANY'],[0,0.5,1,0.5])\n",
    "#sample_df['home_ownership']"
   ]
  },
  {
   "cell_type": "code",
   "execution_count": 17,
   "metadata": {
    "collapsed": false,
    "deletable": true,
    "editable": true
   },
   "outputs": [],
   "source": [
    "#sample_df['verification_status'].unique()\n",
    "train_df['verification_status'] = train_df['verification_status'].replace(['Source Verified', \n",
    "                                                                             'Not Verified', 'Verified'],\n",
    "                                                                           [0.5,0,1])\n",
    "#sample_df['verification_status']"
   ]
  },
  {
   "cell_type": "code",
   "execution_count": 18,
   "metadata": {
    "collapsed": false,
    "deletable": true,
    "editable": true
   },
   "outputs": [
    {
     "data": {
      "text/plain": [
       "421095"
      ]
     },
     "execution_count": 18,
     "metadata": {},
     "output_type": "execute_result"
    }
   ],
   "source": [
    "len(train_df)"
   ]
  },
  {
   "cell_type": "code",
   "execution_count": 19,
   "metadata": {
    "collapsed": false,
    "deletable": true,
    "editable": true
   },
   "outputs": [],
   "source": [
    "#train_df['loan_status'].unique()\n",
    "train_df = train_df[(train_df['loan_status']=='Current') | (train_df['loan_status']=='Charged Off') | (train_df['loan_status']=='Fully Paid')]\n",
    "#sample_df = sample_df[(sample_df['loan_status']=='Current') | (sample_df['loan_status']=='Charged Off') | (sample_df['loan_status']=='Fully Paid')]\n",
    "train_df['loan_status'] = train_df['loan_status'].replace(['Current','Fully Paid','Charged Off',],[0,0,1])\n",
    "#sample_df['loan_status'] \n",
    "train_df.index = range(len(train_df))"
   ]
  },
  {
   "cell_type": "code",
   "execution_count": 28,
   "metadata": {
    "collapsed": false,
    "deletable": true,
    "editable": true
   },
   "outputs": [
    {
     "data": {
      "text/plain": [
       "405055"
      ]
     },
     "execution_count": 28,
     "metadata": {},
     "output_type": "execute_result"
    }
   ],
   "source": [
    "len(train_df)"
   ]
  },
  {
   "cell_type": "code",
   "execution_count": null,
   "metadata": {
    "collapsed": true,
    "deletable": true,
    "editable": true
   },
   "outputs": [],
   "source": [
    "#train_df.index = range(len(train_df))"
   ]
  },
  {
   "cell_type": "code",
   "execution_count": 21,
   "metadata": {
    "collapsed": false,
    "deletable": true,
    "editable": true
   },
   "outputs": [],
   "source": [
    "del train_df['pymnt_plan']#数据值只有“n”，故删除\n",
    "del train_df['desc']#描述\n",
    "train_df['purpose'] = train_df['purpose'].replace(['car','credit_card','debt_consolidation','educational',\n",
    "                                                     'home_improvement','house','major_purchase','medical',\n",
    "                                                     'moving','other','renewable_energy','small_business',\n",
    "                                                     'vacation','wedding'],[0.6,0.2,1.0,0.2,0.4,0.4,0.6,0.6,0.4,0.2,0.6,0.8,0.2,0.4])\n",
    "del train_df['title']#和‘purpose’字段一致\n",
    "del train_df['zip_code']#借贷程序的zip code 前三位\n",
    "\n",
    "#sample_df['purpose']"
   ]
  },
  {
   "cell_type": "code",
   "execution_count": 26,
   "metadata": {
    "collapsed": false,
    "deletable": true,
    "editable": true
   },
   "outputs": [],
   "source": [
    "#train_df['addr_state'].unique()"
   ]
  },
  {
   "cell_type": "code",
   "execution_count": 22,
   "metadata": {
    "collapsed": false,
    "deletable": true,
    "editable": true,
    "scrolled": true
   },
   "outputs": [],
   "source": [
    "#地区,我按照各地的人均GDP与总GDP，按照7:3的比例进行合计评分，并归一化\n",
    "train_df['addr_state'] = train_df['addr_state'].replace(['DC', 'TX', 'PA', 'GA', 'FL', 'NY', 'CA', 'TN', 'KS', 'MA', \n",
    "                                                           'RI','OH', 'OR', 'HI', 'SC', 'MD', 'AZ', 'WI', 'VA', 'CO', \n",
    "                                                           'IN', 'LA','NC', 'NJ', 'MO', 'NM', 'IL', 'MI', 'SD', 'WA', \n",
    "                                                           'NH', 'VT', 'AL','MN', 'CT', 'DE', 'NE', 'WV', 'MT', 'NV',\n",
    "                                                           'OK', 'WY', 'AR', 'KY','MS', 'ME', 'UT', 'ND', 'AK'],\n",
    "                                                          [0.249494545,0.065555092,0.039895621,0.085444756,0.593361556,\n",
    "                                                              0.190277765,0.278189313,1,0.227317672,0.192702231,0.155311576,\n",
    "                                                              0.131447429,0.280336943,0.132540357,0.106452086,0.069307246,\n",
    "                                                              0.15253082,0.302445071,0.21218416,0.030257468,0.137946485,\n",
    "                                                              0.208228197,0.110989561,0,0.048207504,0.16335986,0.231921874,\n",
    "                                                              0.161796013,0.117910048,0.2777898,0.050846682,0.094623649,\n",
    "                                                              0.494175602,0.191919255,0.085791932,0.160341405,0.220064923,\n",
    "                                                              0.111679786,0.046895947,0.10685987,0.109896491,0.441591068,\n",
    "                                                              0.097945954,0.207944043,0.06716049,0.242232775,0.141853116,\n",
    "                                                              0.013158262,0.213121431])\n",
    "#sample_df['addr_state']"
   ]
  },
  {
   "cell_type": "code",
   "execution_count": 26,
   "metadata": {
    "collapsed": false,
    "deletable": true,
    "editable": true
   },
   "outputs": [],
   "source": [
    "train_df['earliest_cr_line'].to_csv('earliest_cr_line.csv')"
   ]
  },
  {
   "cell_type": "code",
   "execution_count": 27,
   "metadata": {
    "collapsed": false,
    "deletable": true,
    "editable": true,
    "scrolled": true
   },
   "outputs": [],
   "source": [
    "#最早有开始信贷的年月 转化为开始有信贷的日子\n",
    "earliest_cr_line = pd.read_csv('./earliest_cr_line.csv')\n",
    "earliest_cr_line = earliest_cr_line[\"earliest_cr_line\"]\n",
    "dates = [dt.datetime.strptime(i,\"%Y/%m/%d\") for i in earliest_cr_line]\n",
    "days = [(dt.datetime.now()-i).days for i in dates]\n",
    "#days\n",
    "train_df['earliest_cr_line'] = days"
   ]
  },
  {
   "cell_type": "code",
   "execution_count": 19,
   "metadata": {
    "collapsed": false,
    "deletable": true,
    "editable": true
   },
   "outputs": [],
   "source": [
    "#train_df['mths_since_last_delinq'].iloc[1] =0"
   ]
  },
  {
   "cell_type": "code",
   "execution_count": 29,
   "metadata": {
    "collapsed": false,
    "deletable": true,
    "editable": true
   },
   "outputs": [],
   "source": [
    "#上一次逾期距今的月数，nan代表没有逾期,取0，那么月份越高说明危险度越低，取月份数的倒数\n",
    "#train_df['mths_since_last_delinq'].unique()\n",
    "train_df['mths_since_last_delinq']=train_df['mths_since_last_delinq'].fillna(0)\n",
    "#sample_df['mths_since_last_delinq']"
   ]
  },
  {
   "cell_type": "code",
   "execution_count": 30,
   "metadata": {
    "collapsed": false,
    "deletable": true,
    "editable": true
   },
   "outputs": [],
   "source": [
    "#上一次有记录的月份数\n",
    "train_df['mths_since_last_record'] = train_df['mths_since_last_record'].fillna(0)\n",
    "#sample_df['mths_since_last_record'] "
   ]
  },
  {
   "cell_type": "code",
   "execution_count": 31,
   "metadata": {
    "collapsed": false,
    "deletable": true,
    "editable": true
   },
   "outputs": [],
   "source": [
    "train_df['revol_util'] = train_df['revol_util'].str.strip('%').astype(float)/100\n",
    "#网上将百分比转化的方法：p_float = df['p_str'].str.strip(\"%\").astype(float)/100\n",
    "#sample_df['revol_util'] "
   ]
  },
  {
   "cell_type": "code",
   "execution_count": 32,
   "metadata": {
    "collapsed": false,
    "deletable": true,
    "editable": true
   },
   "outputs": [],
   "source": [
    "train_df['mths_since_recent_bc_dlq'] = train_df['mths_since_recent_bc_dlq'].fillna(0)"
   ]
  },
  {
   "cell_type": "code",
   "execution_count": 33,
   "metadata": {
    "collapsed": true,
    "deletable": true,
    "editable": true
   },
   "outputs": [],
   "source": [
    "train_df['mths_since_recent_revol_delinq'] = train_df['mths_since_recent_revol_delinq'].fillna(0)"
   ]
  },
  {
   "cell_type": "code",
   "execution_count": 37,
   "metadata": {
    "collapsed": false,
    "deletable": true,
    "editable": true
   },
   "outputs": [],
   "source": [
    "del train_df['Unnamed: 0']"
   ]
  },
  {
   "cell_type": "code",
   "execution_count": 39,
   "metadata": {
    "collapsed": false,
    "deletable": true,
    "editable": true
   },
   "outputs": [],
   "source": [
    "train_df_loan_status = train_df.loan_status\n",
    "train_df = train_df.drop('loan_status',axis = 1)\n",
    "train_df.insert(0,'loan_status',train_df_loan_status)"
   ]
  },
  {
   "cell_type": "markdown",
   "metadata": {
    "deletable": true,
    "editable": true
   },
   "source": [
    "### 初步清洗完的数据集已导出到“clear_train_df.csv”"
   ]
  },
  {
   "cell_type": "code",
   "execution_count": 41,
   "metadata": {
    "collapsed": false,
    "deletable": true,
    "editable": true
   },
   "outputs": [],
   "source": [
    "#train_df.to_csv('clear_train_df.csv')"
   ]
  },
  {
   "cell_type": "markdown",
   "metadata": {
    "deletable": true,
    "editable": true
   },
   "source": [
    "## 根据清理后的数据，进行归一化处理"
   ]
  },
  {
   "cell_type": "code",
   "execution_count": 43,
   "metadata": {
    "collapsed": true,
    "deletable": true,
    "editable": true
   },
   "outputs": [],
   "source": [
    "cl_train_df = pd.read_csv('./clear_train_df.csv')\n",
    "\n",
    "#del cl_train_df['Unnamed: 0']\n",
    "\n",
    "cl_train_df = cl_train_df.drop([i for i in cl_train_keys if cl_train_df[i].count()<100000 ],axis=1)\n",
    "\n",
    "cl_train_keys = list(cl_train_df.keys())\n",
    "num_non = [[i,len(cl_train_df)-cl_train_df[i].count()] for i in cl_train_keys]\n",
    "\n",
    "cl_train_df['num_tl_120dpd_2m'].describe()\n",
    "\n",
    "num_non = [i for i in num_non if i[1]>0]\n",
    "\n",
    "name_non = [num_non[i][0] for i in range(len(num_non))]\n",
    "\n",
    "for i in name_non:\n",
    "    cl_train_df[i].fillna(0,inplace = True)"
   ]
  },
  {
   "cell_type": "code",
   "execution_count": null,
   "metadata": {
    "collapsed": true,
    "deletable": true,
    "editable": true
   },
   "outputs": [],
   "source": []
  },
  {
   "cell_type": "markdown",
   "metadata": {
    "deletable": true,
    "editable": true
   },
   "source": [
    "## Output the results\n",
    "You do not need to modify the following lines. \n",
    "\n",
    "**Please do not modify the file name \"antifraud_proj1_result.csv\".**"
   ]
  },
  {
   "cell_type": "code",
   "execution_count": 12,
   "metadata": {
    "collapsed": false,
    "deletable": true,
    "editable": true
   },
   "outputs": [],
   "source": [
    "d = {'Predict': np.zeros(test_df.shape[0])}\n",
    "test_predict = pd.DataFrame(data=d)\n",
    "test_predict.to_csv(\"antifraud_proj1_result.csv\")"
   ]
  },
  {
   "cell_type": "code",
   "execution_count": null,
   "metadata": {
    "collapsed": true,
    "deletable": true,
    "editable": true
   },
   "outputs": [],
   "source": []
  }
 ],
 "metadata": {
  "anaconda-cloud": {},
  "kernelspec": {
   "display_name": "Python 2",
   "language": "python",
   "name": "python2"
  },
  "language_info": {
   "codemirror_mode": {
    "name": "ipython",
    "version": 2
   },
   "file_extension": ".py",
   "mimetype": "text/x-python",
   "name": "python",
   "nbconvert_exporter": "python",
   "pygments_lexer": "ipython2",
   "version": "2.7.6"
  }
 },
 "nbformat": 4,
 "nbformat_minor": 2
}
