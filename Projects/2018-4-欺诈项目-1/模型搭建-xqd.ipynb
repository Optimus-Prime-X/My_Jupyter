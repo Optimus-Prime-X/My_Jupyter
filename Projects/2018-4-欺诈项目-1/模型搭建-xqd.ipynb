{
 "cells": [
  {
   "cell_type": "code",
   "execution_count": null,
   "metadata": {},
   "outputs": [],
   "source": [
    "# -*- coding: utf-8 -*-\n",
    "\"\"\"\n",
    "Spyder Editor\n",
    "\n",
    "This is a temporary script file.\n",
    "\"\"\"\n",
    "import pandas as pd\n",
    "import numpy as np\n",
    "import operator\n",
    "import matplotlib.pyplot as plt\n",
    "from matplotlib.font_manager import FontProperties\n",
    "from sklearn.linear_model import LinearRegression\n",
    "import statsmodels.api as sm\n",
    "import pylab as pl\n",
    "import copy\n",
    "# from sklearn.model_selection import train_test_split\n",
    "dataset_path = \"/Users/Optimus-Prime/Desktop/cl_train_df.csv\"\n",
    "df = pd.read_csv(dataset_path) # read in data as the DataFrame format"
   ]
  },
  {
   "cell_type": "code",
   "execution_count": 1,
   "metadata": {},
   "outputs": [],
   "source": [
    "import pip"
   ]
  },
  {
   "cell_type": "code",
   "execution_count": 2,
   "metadata": {},
   "outputs": [],
   "source": [
    "def install(package):\n",
    "    pip.main(['install',package])"
   ]
  },
  {
   "cell_type": "code",
   "execution_count": 3,
   "metadata": {},
   "outputs": [
    {
     "name": "stdout",
     "output_type": "stream",
     "text": [
      "Collecting pyquery\n",
      "  Downloading pyquery-1.4.0-py2.py3-none-any.whl\n",
      "Collecting lxml>=2.1 (from pyquery)\n",
      "  Downloading lxml-4.2.1-cp36-cp36m-macosx_10_6_intel.macosx_10_9_intel.macosx_10_9_x86_64.macosx_10_10_intel.macosx_10_10_x86_64.whl (8.7MB)\n",
      "Collecting cssselect>0.7.9 (from pyquery)\n",
      "  Downloading cssselect-1.0.3-py2.py3-none-any.whl\n",
      "Installing collected packages: lxml, cssselect, pyquery\n",
      "Successfully installed cssselect-1.0.3 lxml-4.2.1 pyquery-1.4.0\n"
     ]
    },
    {
     "name": "stderr",
     "output_type": "stream",
     "text": [
      "You are using pip version 9.0.1, however version 9.0.3 is available.\n",
      "You should consider upgrading via the 'pip install --upgrade pip' command.\n"
     ]
    }
   ],
   "source": [
    "install('pyquery')"
   ]
  },
  {
   "cell_type": "code",
   "execution_count": 4,
   "metadata": {},
   "outputs": [
    {
     "name": "stdout",
     "output_type": "stream",
     "text": [
      "Collecting imbalanced-learn\n",
      "  Downloading imbalanced_learn-0.3.3-py3-none-any.whl (144kB)\n",
      "Requirement already satisfied: scikit-learn in /Users/Optimus-Prime/anaconda3/envs/py3/lib/python3.6/site-packages (from imbalanced-learn)\n",
      "Requirement already satisfied: numpy in /Users/Optimus-Prime/anaconda3/envs/py3/lib/python3.6/site-packages (from imbalanced-learn)\n",
      "Requirement already satisfied: scipy in /Users/Optimus-Prime/anaconda3/envs/py3/lib/python3.6/site-packages (from imbalanced-learn)\n",
      "Installing collected packages: imbalanced-learn\n",
      "Successfully installed imbalanced-learn-0.3.3\n"
     ]
    },
    {
     "name": "stderr",
     "output_type": "stream",
     "text": [
      "You are using pip version 9.0.1, however version 9.0.3 is available.\n",
      "You should consider upgrading via the 'pip install --upgrade pip' command.\n"
     ]
    }
   ],
   "source": [
    "install('imbalanced-learn')"
   ]
  },
  {
   "cell_type": "code",
   "execution_count": 7,
   "metadata": {},
   "outputs": [],
   "source": [
    "import imblearn"
   ]
  },
  {
   "cell_type": "code",
   "execution_count": null,
   "metadata": {},
   "outputs": [],
   "source": []
  },
  {
   "cell_type": "code",
   "execution_count": 7,
   "metadata": {
    "nbpresent": {
     "id": "ab09c21a-b41c-41d2-8d2c-98478433c4a2"
    }
   },
   "outputs": [],
   "source": [
    "del df['Unnamed: 0']\n",
    "del df['Unnamed: 0.1']"
   ]
  },
  {
   "cell_type": "code",
   "execution_count": null,
   "metadata": {
    "nbpresent": {
     "id": "5d4671a3-173f-4572-ac27-2b2ecd619c10"
    }
   },
   "outputs": [],
   "source": [
    "#数据处理部分---------------\n",
    "# 数据清洗\n",
    "#数据分割\n",
    "#IMbalanced 处理"
   ]
  },
  {
   "cell_type": "code",
   "execution_count": 8,
   "metadata": {
    "nbpresent": {
     "id": "50622962-0686-484f-8fe7-cb2ff54f487f"
    }
   },
   "outputs": [],
   "source": [
    "#特征选取--------------------------------------------------------------------\n",
    "ranked_feas = list(df.keys()) # get all feature names as a list object\n",
    "del ranked_feas[0] # delete 'category' column\n",
    "M_KS={}\n",
    "M_IV={}\n",
    "for ikey in ranked_feas:\n",
    "        files=df[['loan_status', ikey]]\n",
    "        length=len(files)-1\n",
    "        file=np.array(files)\n",
    "        D={}\n",
    "        sum=0.0\n",
    "        psum=0.0\n",
    "        nsum=0.0\n",
    "        for i in range(0,length):\n",
    "            [loan_status,score]=file[i]\n",
    "            if loan_status==\"loan_status\": continue           \n",
    "            try:\n",
    "                D[str(score)][2] +=1\n",
    "            except:\n",
    "                D[str(score)]=[0,0,1]\n",
    "            if loan_status==0:\n",
    "                D[str(score)][0] +=1\n",
    "                psum +=1\n",
    "            else:\n",
    "                D[str(score)][1] +=1\n",
    "                nsum +=1\n",
    "            sum +=1\n",
    "        num_bins=0            \n",
    "        dkeys=sorted(list(D.keys()),key=lambda x: x)\n",
    "        bin_sizes=[]\n",
    "        ksi=[]\n",
    "        iv=0.0\n",
    "        IIV=0.0\n",
    "        ipsum=0.0\n",
    "        insum=0.0\n",
    "        isum=0.0\n",
    "        iipsum=0.0\n",
    "        iinsum=0.0\n",
    "        for iscore in dkeys:\n",
    "            ipsum += D[iscore][0]\n",
    "            iipsum += D[iscore][0]\n",
    "            insum += D[iscore][1]\n",
    "            iinsum += D[iscore][1]\n",
    "            isum  += D[iscore][2]\n",
    "            t=isum/sum\n",
    "            if t>0.1 :\n",
    "                bin_sizes += [t]\n",
    "                num_bins += 1\n",
    "                ksi += [(np.abs(ipsum/psum-insum/nsum))*100]\n",
    "                iv += (iipsum/psum-iinsum/nsum)*(np.log((iipsum/psum+0.01)/(iinsum/nsum+0.01)))\n",
    "                isum=0.0\n",
    "                t=0.0\n",
    "                iipsum=0.0\n",
    "                iinsum=0.0\n",
    "            else:\n",
    "                continue\n",
    "        IIV=iv+(iipsum/psum-iinsum/nsum)*(np.log((iipsum/psum+0.01)/(iinsum/nsum+0.01)))\n",
    "        ksi += [(np.abs(ipsum/psum-insum/nsum))*100]\n",
    "        IKS=max(ksi)\n",
    "        M_KS[ikey]=IKS\n",
    "        M_IV[ikey]=IIV\n",
    "        \n",
    "        "
   ]
  },
  {
   "cell_type": "code",
   "execution_count": 9,
   "metadata": {
    "nbpresent": {
     "id": "2f71a0b4-b55c-4762-888f-0e2a5bd92199"
    }
   },
   "outputs": [
    {
     "name": "stdout",
     "output_type": "stream",
     "text": [
      "[('fico_range_low', 13.931603618926847), ('fico_range_high', 13.931603618926847), ('num_tl_op_past_12m', 13.561472932297281), ('inq_last_6mths', 11.812604883224198), ('term', 10.116942263672312), ('verification_status', 9.714112711699077), ('home_ownership', 9.506338481883187), ('acc_open_past_24mths', 9.17299472303571), ('mort_acc', 8.186220777941266), ('purpose', 6.609792460495218), ('dti', 6.501627440728236), ('bc_util', 4.3701526731585005), ('mo_sin_old_rev_tl_op', 4.226253794128487), ('earliest_cr_line', 4.030289580254298), ('mo_sin_rcnt_tl', 3.98948716961839), ('percent_bc_gt_75', 3.954455731645637), ('revol_util', 3.862492197192635), ('mo_sin_old_il_acct', 3.8367836819837686), ('annual_inc', 3.77425140023073), ('total_rev_hi_lim', 2.7950983115191397), ('emp_length', 2.6863495635086747), ('mo_sin_rcnt_rev_tl_op', 2.6223587268152935), ('all_util', 2.59606090698562), ('tot_hi_cred_lim', 2.5871625979061452), ('max_bal_bc', 2.569075719195113), ('mths_since_recent_inq', 2.5601886206565783), ('mths_since_rcnt_il', 2.540712761702535), ('mths_since_last_record', 2.5011800315067667), ('pub_rec', 2.4998557141261535), ('total_il_high_credit_limit', 2.478821994486459), ('pub_rec_bankruptcies', 2.3485082974404103), ('total_bal_il', 2.280898334080128), ('open_il_6m', 2.2704968012554727), ('il_util', 2.161184203486455), ('open_rv_24m', 2.082704436072391), ('num_accts_ever_120_pd', 2.0192294287276646), ('tot_cur_bal', 1.9192614813688946), ('num_sats', 1.7791043226273784), ('open_il_24m', 1.7165485218528898), ('open_acc', 1.696257905054066), ('inq_last_12m', 1.6807610658026717), ('avg_cur_bal', 1.5210549484458658), ('mths_since_recent_bc', 1.4746128556055837), ('open_rv_12m', 1.470071690840069), ('num_actv_rev_tl', 1.4696406050907829), ('num_op_rev_tl', 1.3370945079553942), ('num_rev_tl_bal_gt_0', 1.3192426460998967), ('num_bc_sats', 1.27997255460795), ('open_acc_6m', 1.2679666142382362), ('addr_state', 1.2672682379884974), ('mths_since_recent_bc_dlq', 1.2380348455573786), ('loan_amnt', 1.2241667996668815), ('total_bc_limit', 1.2184522842124483), ('bc_open_to_buy', 1.1946314738523798), ('total_bal_ex_mort', 1.1652328126219413), ('num_rev_accts', 1.1222559037627478), ('total_cu_tl', 1.1100266771550626), ('num_bc_tl', 1.0867234875187592), ('num_actv_bc_tl', 1.0762080290165206), ('total_acc', 0.998934781623817), ('inq_fi', 0.8997042740491623), ('pct_tl_nvr_dlq', 0.8898146988915001), ('revol_bal', 0.8399525242721695), ('open_il_12m', 0.8314205514001527), ('delinq_2yrs', 0.8163812062341624), ('mths_since_last_delinq', 0.7680451676253808), ('mths_since_recent_revol_delinq', 0.7195594914096604), ('tot_coll_amt', 0.6900818652091911), ('num_tl_90g_dpd_24m', 0.6351515148279141), ('num_il_tl', 0.5063032203979773), ('chargeoff_within_12_mths', 0.15445588587725823), ('acc_now_delinq', 0.1494804571163133), ('delinq_amnt', 0.11914822942170611), ('tax_liens', 0.08803658020077876), ('num_tl_30dpd', 0.06414272796576581), ('num_tl_120dpd_2m', 0.01325149503231815)]\n",
      "[('fico_range_low', 0.10298141761460645), ('fico_range_high', 0.10298141761460645), ('num_tl_op_past_12m', 0.10006250227750735), ('acc_open_past_24mths', 0.07126712435344477), ('verification_status', 0.06518550790640876), ('inq_last_6mths', 0.06502574444203749), ('term', 0.043196644747990696), ('dti', 0.04258433580696425), ('home_ownership', 0.03778229910903888), ('mort_acc', 0.031377787740827785), ('mo_sin_old_rev_tl_op', 0.026325514974709363), ('earliest_cr_line', 0.02243067460009742), ('purpose', 0.022322761325633024), ('mo_sin_rcnt_tl', 0.02153527724451418), ('percent_bc_gt_75', 0.018072415017203542), ('annual_inc', 0.01796160247765573), ('mths_since_recent_inq', 0.015668269262283784), ('bc_util', 0.014724960631965258), ('all_util', 0.014649456439403312), ('max_bal_bc', 0.014571494784571993), ('mths_since_rcnt_il', 0.014328531120782285), ('mo_sin_old_il_acct', 0.012986618961418353), ('total_bal_il', 0.012223179430873985), ('open_il_6m', 0.01213310743402357), ('il_util', 0.011194299419295105), ('open_rv_24m', 0.01029618679804065), ('emp_length', 0.008227758706261934), ('open_il_24m', 0.007755344310309104), ('revol_util', 0.007576542486938254), ('inq_last_12m', 0.007344692400962932), ('mo_sin_rcnt_rev_tl_op', 0.006927037101958179), ('total_il_high_credit_limit', 0.006343477534741578), ('open_rv_12m', 0.006059265092913453), ('tot_hi_cred_lim', 0.005333771406861459), ('open_acc_6m', 0.004736095320984587), ('total_cu_tl', 0.004475874505637308), ('pub_rec_bankruptcies', 0.004465097192607604), ('mths_since_recent_bc', 0.004338877037692402), ('pub_rec', 0.004137618692450378), ('mths_since_last_record', 0.0040790356945502), ('total_rev_hi_lim', 0.0039450642481561665), ('num_actv_rev_tl', 0.0029179185150652936), ('loan_amnt', 0.0028972352959275864), ('inq_fi', 0.0028353882577718584), ('open_il_12m', 0.0022900978875791886), ('num_rev_tl_bal_gt_0', 0.0022862576905021085), ('num_accts_ever_120_pd', 0.0022676847663598188), ('total_bc_limit', 0.002263725359759233), ('tot_cur_bal', 0.001920848967998138), ('bc_open_to_buy', 0.0019118418987362402), ('addr_state', 0.0015817211929623329), ('num_actv_bc_tl', 0.001509249619986392), ('num_bc_sats', 0.0014051886205111903), ('num_sats', 0.0013648545859228794), ('open_acc', 0.0013073243601146652), ('num_op_rev_tl', 0.0012875989369371024), ('pct_tl_nvr_dlq', 0.0011640264706407652), ('avg_cur_bal', 0.001157729230640834), ('total_acc', 0.0009832955706613653), ('num_bc_tl', 0.0009698691694692532), ('num_il_tl', 0.0008686764526728313), ('mths_since_recent_bc_dlq', 0.0008288076310440302), ('total_bal_ex_mort', 0.0008287148186222039), ('delinq_2yrs', 0.0006724244129936943), ('num_tl_90g_dpd_24m', 0.0005994127803751624), ('num_rev_accts', 0.0005989585240353036), ('mths_since_last_delinq', 0.0005573719505228776), ('tot_coll_amt', 0.0004846774515847029), ('revol_bal', 0.00045063894380359615), ('mths_since_recent_revol_delinq', 0.0003816843886530944), ('acc_now_delinq', 0.00013934665013297766), ('chargeoff_within_12_mths', 0.00012134904036722704), ('delinq_amnt', 9.747681447117674e-05), ('num_tl_30dpd', 2.9636683070040515e-05), ('tax_liens', 1.6472489679680784e-05), ('num_tl_120dpd_2m', 1.6534064339903122e-06)]\n"
     ]
    }
   ],
   "source": [
    "#计算排序并筛选变量\n",
    "        \n",
    "sorted_MKS=sorted(M_KS.items(),key=operator.itemgetter(1),reverse=True)\n",
    "sorted_MKS=[x for x in sorted_MKS if x[1]>0]\n",
    "sorted_MIV=sorted(M_IV.items(),key=operator.itemgetter(1),reverse=True)\n",
    "sorted_MIV=[x for x in sorted_MIV if x[1]>0]\n",
    "sorted_feas_MKS=[x[0] for x in sorted_MKS]\n",
    "sorted_feas_MIV=[x[0] for x in sorted_MIV]\n",
    "sorted_feas=[x for x in sorted_feas_MKS if x in sorted_feas_MIV]\n",
    "print (sorted_MKS)\n",
    "print (sorted_MIV)"
   ]
  },
  {
   "cell_type": "code",
   "execution_count": 11,
   "metadata": {
    "nbpresent": {
     "id": "4321c9e3-e09e-4494-a48d-b8b0746143a4"
    }
   },
   "outputs": [
    {
     "ename": "SyntaxError",
     "evalue": "invalid syntax (<ipython-input-11-38b5d3df9d53>, line 45)",
     "output_type": "error",
     "traceback": [
      "\u001b[0;36m  File \u001b[0;32m\"<ipython-input-11-38b5d3df9d53>\"\u001b[0;36m, line \u001b[0;32m45\u001b[0m\n\u001b[0;31m    print 'Total: %d, Hit: %d, Precision: %.2f' %, (total, hit, 100.0*hit/total)\u001b[0m\n\u001b[0m                                              ^\u001b[0m\n\u001b[0;31mSyntaxError\u001b[0m\u001b[0;31m:\u001b[0m invalid syntax\n"
     ]
    }
   ],
   "source": [
    "#模型搭建----------------------------------------------------------------\n",
    "#以下进行数据逻辑回归\n",
    "\n",
    "#selected_df=pd.merge(df['loan_status'],(df[sorted_feas]),on='loan_status')\n",
    "\n",
    "dum_purpose=pd.get_dummies(selected_df['purpose'],prefix='purpose')\n",
    "cols_to_keep=ranked_feas.remove('purpose')\n",
    "#需要根据输入数据进行改变，确认或重写数据清理代码\n",
    "#dumed_data=df[cols_to_keep].join(dum_purpose.ix[:,'purpose_2':])\n",
    "\n",
    "#dumed_data['intercept']=1.0\n",
    "\n",
    "#逻辑回归执行\n",
    "#train_cols=dumed_data.columns[1:]\n",
    "#train_cols=selected_df.columns[1:]\n",
    "#logit=sm.Logit(dumed_data['loan_status'],dumed_data[train_cols])\n",
    "logit=sm.Logit(df['loan_status'],df[sorted_feas])\n",
    "logit_result=logit.fit()\n",
    "\n",
    "#模型测试部分---------------------------------------------------------------\n",
    "#数据的分割train和test，放在第一部分，此处临时使用\n",
    "#variable_train,variable_test,loan_states_train,loan_states_test=train_test_split(variable,loan_states,test_size=0.25,random_state=0)\n",
    "#loan_states,variable = dumed_data.ix[:,0],dumed_data.ix[:,1:]\n",
    "\n",
    "\n",
    "combos=copy.deepcopy(df)\n",
    "predict_cols = combos.columns[1:]  \n",
    "combos['intercept'] = 1.0 \n",
    "combos['predict'] = logit_result.predict(combos[predict_cols])\n",
    "total = 0.0  \n",
    "hit = 0.0  \n",
    "for value in combos.values:  \n",
    "    predict = value[-1]  \n",
    "  # 实际录取结果  \n",
    "    admit = int(value[0])  \n",
    "   \n",
    "  # 假定预测概率大于0.5则表示预测被录取  \n",
    "    if predict > 0.5:  \n",
    "        total += 1  \n",
    "    # 表示预测命中  \n",
    "    if admit == 1:  \n",
    "        hit += 1  \n",
    "  # 预测分数 predict, 是数据中的最后一列  \n",
    "  \n",
    "print ('Total: %d, Hit: %d, Precision: %.2f' % (total, hit, 100.0*hit/total) )\n",
    "\n",
    "#RF模型"
   ]
  }
 ],
 "metadata": {
  "kernelspec": {
   "display_name": "Python [conda env:py3]",
   "language": "python",
   "name": "conda-env-py3-py"
  },
  "language_info": {
   "codemirror_mode": {
    "name": "ipython",
    "version": 3
   },
   "file_extension": ".py",
   "mimetype": "text/x-python",
   "name": "python",
   "nbconvert_exporter": "python",
   "pygments_lexer": "ipython3",
   "version": "3.6.4"
  }
 },
 "nbformat": 4,
 "nbformat_minor": 2
}
