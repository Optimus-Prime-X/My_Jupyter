{
 "cells": [
  {
   "cell_type": "markdown",
   "metadata": {
    "deletable": true,
    "editable": true
   },
   "source": [
    "# Project1 量化金融信用评估实验"
   ]
  },
  {
   "cell_type": "code",
   "execution_count": 34,
   "metadata": {
    "collapsed": false,
    "deletable": true,
    "editable": true
   },
   "outputs": [],
   "source": [
    "import numpy as np\n",
    "import pandas as pd\n",
    "from matplotlib import pyplot  \n",
    "import scipy as sp  \n",
    "import numpy as np  \n",
    "import pandas as pd\n",
    "from matplotlib import pylab  \n",
    "from sklearn.datasets import load_files  \n",
    "from sklearn.cross_validation import train_test_split  \n",
    "from sklearn.feature_extraction.text import  CountVectorizer  \n",
    "from sklearn.feature_extraction.text import  TfidfVectorizer  \n",
    "from sklearn.naive_bayes import MultinomialNB  \n",
    "from sklearn.metrics import precision_recall_curve, roc_curve, auc  \n",
    "from sklearn.metrics import classification_report  \n",
    "from sklearn.linear_model import LogisticRegression  \n",
    "import time \n",
    "from imblearn.combine import SMOTEENN\n",
    "from sklearn.preprocessing import StandardScaler"
   ]
  },
  {
   "cell_type": "markdown",
   "metadata": {
    "deletable": true,
    "editable": true
   },
   "source": [
    "## Read the dataset files."
   ]
  },
  {
   "cell_type": "code",
   "execution_count": 35,
   "metadata": {
    "collapsed": false,
    "deletable": true,
    "editable": true,
    "scrolled": true
   },
   "outputs": [
    {
     "name": "stdout",
     "output_type": "stream",
     "text": [
      "Shape of train_df: (421095, 86)\n",
      "Shape of test_df: (93370, 80)\n",
      "Which fields are missing in the test dataset?\n",
      "set(['open_il_6m', 'fico_range_low', 'member_id', 'loan_status', 'fico_range_high', 'id'])\n"
     ]
    }
   ],
   "source": [
    "dir_prefix = \"/home/ubuntu/workspace/data_set_public/public_data/\"\n",
    "\n",
    "train_dataset = \"project_LoanStats3d_securev1.csv\"\n",
    "\n",
    "train_df = pd.read_csv(dir_prefix + train_dataset, low_memory=False) # please note that this is a large file, it may take a little bit longer to read\n",
    "train_df.head()\n",
    "print 'Shape of train_df:', train_df.shape\n",
    "\n",
    "test_dataset = \"antifraud_proj1_test.csv\"\n",
    "test_df = pd.read_csv(dir_prefix + test_dataset, low_memory=False)\n",
    "print 'Shape of test_df:', test_df.shape\n",
    "print 'Which fields are missing in the test dataset?'\n",
    "print set(train_df.columns) - set(test_df.columns)"
   ]
  },
  {
   "cell_type": "markdown",
   "metadata": {
    "deletable": true,
    "editable": true
   },
   "source": [
    "## Main program"
   ]
  },
  {
   "cell_type": "code",
   "execution_count": 36,
   "metadata": {
    "collapsed": false,
    "deletable": true,
    "editable": true
   },
   "outputs": [],
   "source": [
    "df = train_df\n",
    "df1 = df[df.loan_status.isin(['Current', 'Fully Paid', 'Charged Off'])]"
   ]
  },
  {
   "cell_type": "code",
   "execution_count": 37,
   "metadata": {
    "collapsed": false,
    "deletable": true,
    "editable": true,
    "scrolled": true
   },
   "outputs": [
    {
     "name": "stderr",
     "output_type": "stream",
     "text": [
      "/usr/local/lib/python2.7/dist-packages/ipykernel/__main__.py:6: SettingWithCopyWarning: \n",
      "A value is trying to be set on a copy of a slice from a DataFrame.\n",
      "Try using .loc[row_indexer,col_indexer] = value instead\n",
      "\n",
      "See the caveats in the documentation: http://pandas.pydata.org/pandas-docs/stable/indexing.html#indexing-view-versus-copy\n"
     ]
    }
   ],
   "source": [
    "loan_status_n = {\n",
    "    'Charged Off': 1,\n",
    "    'Current': 0,\n",
    "    'Fully Paid': 0,\n",
    "}\n",
    "df1['loan_status_n'] = df1['loan_status'].map(loan_status_n)"
   ]
  },
  {
   "cell_type": "code",
   "execution_count": 38,
   "metadata": {
    "collapsed": false,
    "deletable": true,
    "editable": true
   },
   "outputs": [
    {
     "name": "stderr",
     "output_type": "stream",
     "text": [
      "/usr/local/lib/python2.7/dist-packages/ipykernel/__main__.py:5: SettingWithCopyWarning: \n",
      "A value is trying to be set on a copy of a slice from a DataFrame.\n",
      "Try using .loc[row_indexer,col_indexer] = value instead\n",
      "\n",
      "See the caveats in the documentation: http://pandas.pydata.org/pandas-docs/stable/indexing.html#indexing-view-versus-copy\n"
     ]
    }
   ],
   "source": [
    "term_n = {\n",
    "    ' 36 months': 0,\n",
    "    ' 60 months': 1\n",
    "}\n",
    "df1['term_n'] = df1['term'].map(term_n)"
   ]
  },
  {
   "cell_type": "code",
   "execution_count": 39,
   "metadata": {
    "collapsed": false,
    "deletable": true,
    "editable": true
   },
   "outputs": [
    {
     "name": "stderr",
     "output_type": "stream",
     "text": [
      "/usr/local/lib/python2.7/dist-packages/ipykernel/__main__.py:15: SettingWithCopyWarning: \n",
      "A value is trying to be set on a copy of a slice from a DataFrame.\n",
      "Try using .loc[row_indexer,col_indexer] = value instead\n",
      "\n",
      "See the caveats in the documentation: http://pandas.pydata.org/pandas-docs/stable/indexing.html#indexing-view-versus-copy\n"
     ]
    }
   ],
   "source": [
    "emp_length_n = {\n",
    "    '< 1 year': 0.5,\n",
    "    '1 year': 1,\n",
    "    '2 years': 2,\n",
    "    '3 years': 3,\n",
    "    '4 years': 4,\n",
    "    '5 years': 5,\n",
    "    '6 years': 6,\n",
    "    '7 years': 7,\n",
    "    '8 years': 8,\n",
    "    '9 years': 9,\n",
    "    '10+ years': 10,\n",
    "    'n/a': 0\n",
    "}\n",
    "df1['emp_length_n'] = df1['emp_length'].map(emp_length_n)"
   ]
  },
  {
   "cell_type": "code",
   "execution_count": 40,
   "metadata": {
    "collapsed": false,
    "deletable": true,
    "editable": true
   },
   "outputs": [
    {
     "name": "stderr",
     "output_type": "stream",
     "text": [
      "/usr/local/lib/python2.7/dist-packages/ipykernel/__main__.py:6: SettingWithCopyWarning: \n",
      "A value is trying to be set on a copy of a slice from a DataFrame.\n",
      "Try using .loc[row_indexer,col_indexer] = value instead\n",
      "\n",
      "See the caveats in the documentation: http://pandas.pydata.org/pandas-docs/stable/indexing.html#indexing-view-versus-copy\n"
     ]
    }
   ],
   "source": [
    "verification_status_n = {\n",
    "    'Not Verified': 1,\n",
    "    'Source Verified': 0,\n",
    "    'Verified': 0\n",
    "}\n",
    "df1['verification_status_n'] = df1['verification_status'].map(verification_status_n)"
   ]
  },
  {
   "cell_type": "code",
   "execution_count": 41,
   "metadata": {
    "collapsed": true,
    "deletable": true,
    "editable": true
   },
   "outputs": [],
   "source": [
    "df4 = df1"
   ]
  },
  {
   "cell_type": "code",
   "execution_count": 42,
   "metadata": {
    "collapsed": false,
    "deletable": true,
    "editable": true
   },
   "outputs": [],
   "source": [
    "del df4['loan_status']\n",
    "df4.rename(columns={'loan_status_n':'loan_status'}, inplace = True)\n",
    "del df4['term']\n",
    "df4.rename(columns={'term_n':'term'}, inplace = True)\n",
    "del df4['emp_length']\n",
    "df4.rename(columns={'emp_length_n':'emp_length'}, inplace = True)\n",
    "del df4['verification_status']\n",
    "df4.rename(columns={'verification_status_n':'verification_status'}, inplace = True)"
   ]
  },
  {
   "cell_type": "code",
   "execution_count": 43,
   "metadata": {
    "collapsed": false,
    "deletable": true,
    "editable": true
   },
   "outputs": [
    {
     "name": "stderr",
     "output_type": "stream",
     "text": [
      "/usr/local/lib/python2.7/dist-packages/ipykernel/__main__.py:25: SettingWithCopyWarning: \n",
      "A value is trying to be set on a copy of a slice from a DataFrame.\n",
      "Try using .loc[row_indexer,col_indexer] = value instead\n",
      "\n",
      "See the caveats in the documentation: http://pandas.pydata.org/pandas-docs/stable/indexing.html#indexing-view-versus-copy\n",
      "/usr/local/lib/python2.7/dist-packages/ipykernel/__main__.py:26: SettingWithCopyWarning: \n",
      "A value is trying to be set on a copy of a slice from a DataFrame.\n",
      "Try using .loc[row_indexer,col_indexer] = value instead\n",
      "\n",
      "See the caveats in the documentation: http://pandas.pydata.org/pandas-docs/stable/indexing.html#indexing-view-versus-copy\n",
      "/usr/local/lib/python2.7/dist-packages/ipykernel/__main__.py:27: SettingWithCopyWarning: \n",
      "A value is trying to be set on a copy of a slice from a DataFrame.\n",
      "Try using .loc[row_indexer,col_indexer] = value instead\n",
      "\n",
      "See the caveats in the documentation: http://pandas.pydata.org/pandas-docs/stable/indexing.html#indexing-view-versus-copy\n",
      "/usr/local/lib/python2.7/dist-packages/ipykernel/__main__.py:28: SettingWithCopyWarning: \n",
      "A value is trying to be set on a copy of a slice from a DataFrame.\n",
      "Try using .loc[row_indexer,col_indexer] = value instead\n",
      "\n",
      "See the caveats in the documentation: http://pandas.pydata.org/pandas-docs/stable/indexing.html#indexing-view-versus-copy\n"
     ]
    }
   ],
   "source": [
    "home_ownership_R = {\n",
    "    'RENT': 1,\n",
    "    'MORTGAGE': 0,\n",
    "    'OWN': 0,\n",
    "    'ANY': 0,\n",
    "}\n",
    "home_ownership_M = {\n",
    "    'RENT': 0,\n",
    "    'MORTGAGE': 1,\n",
    "    'OWN': 0,\n",
    "    'ANY': 0,\n",
    "}\n",
    "home_ownership_O = {\n",
    "    'RENT': 0,\n",
    "    'MORTGAGE': 0,\n",
    "    'OWN': 1,\n",
    "    'ANY': 0,\n",
    "}\n",
    "home_ownership_A = {\n",
    "    'RENT': 0,\n",
    "    'MORTGAGE': 0,\n",
    "    'OWN': 0,\n",
    "    'ANY': 1,\n",
    "}\n",
    "df4['home_ownership_R'] = df4['home_ownership'].map(home_ownership_R)\n",
    "df4['home_ownership_M'] = df4['home_ownership'].map(home_ownership_M)\n",
    "df4['home_ownership_0'] = df4['home_ownership'].map(home_ownership_O)\n",
    "df4['home_ownership_A'] = df4['home_ownership'].map(home_ownership_A)"
   ]
  },
  {
   "cell_type": "code",
   "execution_count": 44,
   "metadata": {
    "collapsed": false,
    "deletable": true,
    "editable": true
   },
   "outputs": [
    {
     "name": "stderr",
     "output_type": "stream",
     "text": [
      "/usr/local/lib/python2.7/dist-packages/ipykernel/__main__.py:81: SettingWithCopyWarning: \n",
      "A value is trying to be set on a copy of a slice from a DataFrame.\n",
      "Try using .loc[row_indexer,col_indexer] = value instead\n",
      "\n",
      "See the caveats in the documentation: http://pandas.pydata.org/pandas-docs/stable/indexing.html#indexing-view-versus-copy\n",
      "/usr/local/lib/python2.7/dist-packages/ipykernel/__main__.py:82: SettingWithCopyWarning: \n",
      "A value is trying to be set on a copy of a slice from a DataFrame.\n",
      "Try using .loc[row_indexer,col_indexer] = value instead\n",
      "\n",
      "See the caveats in the documentation: http://pandas.pydata.org/pandas-docs/stable/indexing.html#indexing-view-versus-copy\n",
      "/usr/local/lib/python2.7/dist-packages/ipykernel/__main__.py:83: SettingWithCopyWarning: \n",
      "A value is trying to be set on a copy of a slice from a DataFrame.\n",
      "Try using .loc[row_indexer,col_indexer] = value instead\n",
      "\n",
      "See the caveats in the documentation: http://pandas.pydata.org/pandas-docs/stable/indexing.html#indexing-view-versus-copy\n",
      "/usr/local/lib/python2.7/dist-packages/ipykernel/__main__.py:84: SettingWithCopyWarning: \n",
      "A value is trying to be set on a copy of a slice from a DataFrame.\n",
      "Try using .loc[row_indexer,col_indexer] = value instead\n",
      "\n",
      "See the caveats in the documentation: http://pandas.pydata.org/pandas-docs/stable/indexing.html#indexing-view-versus-copy\n",
      "/usr/local/lib/python2.7/dist-packages/ipykernel/__main__.py:85: SettingWithCopyWarning: \n",
      "A value is trying to be set on a copy of a slice from a DataFrame.\n",
      "Try using .loc[row_indexer,col_indexer] = value instead\n",
      "\n",
      "See the caveats in the documentation: http://pandas.pydata.org/pandas-docs/stable/indexing.html#indexing-view-versus-copy\n"
     ]
    }
   ],
   "source": [
    "purpose_d = {\n",
    "    'debt_consolidation': 1,\n",
    "    'credit_card': 0,\n",
    "    'home_improvement': 0,\n",
    "    'moving': 0,\n",
    "    'major_purchase': 0,\n",
    "    'house': 0,\n",
    "    'car': 0,\n",
    "    'other': 0,\n",
    "    'medical': 0,\n",
    "    'small_business': 0,\n",
    "    'vacation': 0,\n",
    "    'renewable_energy': 0,\n",
    "    'wedding': 0,\n",
    "    'educational': 0,\n",
    "}\n",
    "purpose_c = {\n",
    "    'debt_consolidation': 0,\n",
    "    'credit_card': 1,\n",
    "    'home_improvement': 0,\n",
    "    'moving': 0,\n",
    "    'major_purchase': 0,\n",
    "    'house': 0,\n",
    "    'car': 0,\n",
    "    'other': 0,\n",
    "    'medical': 0,\n",
    "    'small_business': 0,\n",
    "    'vacation': 0,\n",
    "    'renewable_energy': 0,\n",
    "    'wedding': 0,\n",
    "    'educational': 0,\n",
    "}\n",
    "purpose_h = {\n",
    "    'debt_consolidation': 0,\n",
    "    'credit_card': 0,\n",
    "    'home_improvement': 1,\n",
    "    'moving': 1,\n",
    "    'major_purchase': 0,\n",
    "    'house': 0,\n",
    "    'car': 0,\n",
    "    'other': 0,\n",
    "    'medical': 0,\n",
    "    'small_business': 0,\n",
    "    'vacation': 0,\n",
    "    'renewable_energy': 0,\n",
    "    'wedding': 0,\n",
    "    'educational': 0,\n",
    "}\n",
    "purpose_m = {\n",
    "    'debt_consolidation': 0,\n",
    "    'credit_card': 0,\n",
    "    'home_improvement': 0,\n",
    "    'moving': 0,\n",
    "    'major_purchase': 1,\n",
    "    'house': 1,\n",
    "    'car': 1,\n",
    "    'other': 0,\n",
    "    'medical': 0,\n",
    "    'small_business': 0,\n",
    "    'vacation': 0,\n",
    "    'renewable_energy': 0,\n",
    "    'wedding': 0,\n",
    "    'educational': 0,\n",
    "}\n",
    "purpose_o = {\n",
    "    'debt_consolidation': 0,\n",
    "    'credit_card': 0,\n",
    "    'home_improvement': 0,\n",
    "    'moving': 0,\n",
    "    'major_purchase': 0,\n",
    "    'house': 0,\n",
    "    'car': 0,\n",
    "    'other': 1,\n",
    "    'medical': 1,\n",
    "    'small_business': 1,\n",
    "    'vacation': 1,\n",
    "    'renewable_energy': 1,\n",
    "    'wedding': 1,\n",
    "    'educational': 1,\n",
    "}\n",
    "df4['purpose_d'] = df4['purpose'].map(purpose_d)\n",
    "df4['purpose_c'] = df4['purpose'].map(purpose_c)\n",
    "df4['purpose_h'] = df4['purpose'].map(purpose_h)\n",
    "df4['purpose_m'] = df4['purpose'].map(purpose_m)\n",
    "df4['purpose_o'] = df4['purpose'].map(purpose_o)"
   ]
  },
  {
   "cell_type": "code",
   "execution_count": 45,
   "metadata": {
    "collapsed": true,
    "deletable": true,
    "editable": true
   },
   "outputs": [],
   "source": [
    "del df4['earliest_cr_line']\n",
    "del df4['addr_state']"
   ]
  },
  {
   "cell_type": "code",
   "execution_count": 46,
   "metadata": {
    "collapsed": false,
    "deletable": true,
    "editable": true
   },
   "outputs": [
    {
     "name": "stdout",
     "output_type": "stream",
     "text": [
      "funded_amnt\n",
      "funded_amnt_inv\n",
      "int_rate\n",
      "installment\n",
      "grade\n",
      "sub_grade\n",
      "initial_list_status\n",
      "out_prncp\n",
      "out_prncp_inv\n",
      "total_pymnt\n",
      "total_pymnt_inv\n",
      "total_rec_prncp\n",
      "total_rec_int\n",
      "total_rec_late_fee\n",
      "recoveries\n",
      "collection_recovery_fee\n",
      "last_pymnt_d\n",
      "last_pymnt_amnt\n",
      "next_pymnt_d\n",
      "last_credit_pull_d\n",
      "last_fico_range_high\n",
      "last_fico_range_low\n",
      "collections_12_mths_ex_med\n",
      "mths_since_last_major_derog\n",
      "policy_code\n",
      "application_type\n",
      "annual_inc_joint\n",
      "dti_joint\n",
      "verification_status_joint\n",
      "url\n"
     ]
    }
   ],
   "source": [
    "othercol = ['funded_amnt','funded_amnt_inv', \n",
    "'int_rate', 'installment', 'grade', 'sub_grade', 'initial_list_status', 'out_prncp', 'out_prncp_inv', 'total_pymnt', 'total_pymnt_inv', 'total_rec_prncp', 'total_rec_int', 'total_rec_late_fee', 'recoveries', 'collection_recovery_fee', 'last_pymnt_d', 'last_pymnt_amnt', 'next_pymnt_d', 'last_credit_pull_d', 'last_fico_range_high', 'last_fico_range_low', 'collections_12_mths_ex_med', 'mths_since_last_major_derog', 'policy_code', 'application_type', 'annual_inc_joint'\n",
    "    , 'dti_joint',\n",
    "'verification_status_joint']\n",
    "for list in othercol:\n",
    "    try:\n",
    "        del df4[list]\n",
    "    except:\n",
    "        print(list)\n",
    "norecol = ['emp_title', 'pymnt_plan', 'url', 'desc', 'zip_code']\n",
    "for list in norecol:\n",
    "    try:\n",
    "        del df4[list]\n",
    "    except:\n",
    "        print(list)"
   ]
  },
  {
   "cell_type": "code",
   "execution_count": 47,
   "metadata": {
    "collapsed": false,
    "deletable": true,
    "editable": true
   },
   "outputs": [],
   "source": [
    "del df4['title']\n",
    "del df4['issue_d']\n",
    "del df4['home_ownership']\n",
    "del df4['purpose']"
   ]
  },
  {
   "cell_type": "code",
   "execution_count": 48,
   "metadata": {
    "collapsed": true,
    "deletable": true,
    "editable": true
   },
   "outputs": [],
   "source": [
    "feas = ['mths_since_rcnt_il', 'open_il_12m', 'acc_open_past_24mths', 'open_il_24m', 'fico_range_low', 'fico_range_high', 'num_tl_op_past_12m', 'open_acc_6m', 'inq_last_12m', 'inq_last_6mths', 'open_rv_24m', 'il_util', 'inq_fi', 'dti', 'mo_sin_rcnt_tl', 'term', 'bc_open_to_buy', 'open_rv_12m', 'verification_status', 'tot_hi_cred_lim', 'total_bc_limit', 'home_ownership_M', 'mo_sin_old_rev_tl_op', 'mths_since_recent_inq', 'all_util', 'avg_cur_bal', 'home_ownership_R', 'tot_cur_bal', 'mo_sin_rcnt_rev_tl_op', 'mort_acc', 'max_bal_bc', 'mths_since_recent_bc', 'total_rev_hi_lim', 'annual_inc', 'purpose_c', 'percent_bc_gt_75', 'mo_sin_old_il_acct', 'mths_since_last_record', 'purpose_d', 'bc_util', 'emp_length', 'revol_bal', 'revol_util', 'total_cu_tl', 'total_bal_il', 'loan_amnt', 'num_actv_rev_tl', 'open_il_6m', 'num_rev_tl_bal_gt_0', 'num_il_tl', 'pub_rec', 'total_il_high_credit_limit', 'pub_rec_bankruptcies', 'num_accts_ever_120_pd', 'open_acc', 'num_sats', 'num_op_rev_tl', 'purpose_o', 'num_bc_tl', 'mths_since_last_delinq', 'total_bal_ex_mort', 'num_bc_sats', 'pct_tl_nvr_dlq', 'mths_since_recent_bc_dlq', 'num_actv_bc_tl', 'mths_since_recent_revol_delinq', 'total_acc', 'delinq_2yrs', 'tot_coll_amt', 'num_rev_accts', 'num_tl_90g_dpd_24m', 'home_ownership_0', 'purpose_h', 'purpose_m', 'chargeoff_within_12_mths', 'acc_now_delinq', 'delinq_amnt', 'tax_liens', 'num_tl_30dpd', 'num_tl_120dpd_2m', 'home_ownership_A']\n",
    "feasp = ['total_cu_tl', 'total_bal_il', 'open_rv_24m', 'open_rv_12m', 'open_il_6m', 'open_il_24m', 'open_il_12m', 'open_acc_6m', 'max_bal_bc', 'inq_last_12m', 'inq_fi', 'all_util', 'mths_since_rcnt_il', 'il_util', 'fico_range_low', 'fico_range_high']\n",
    "for fea in feasp:\n",
    "    feas.remove(fea)\n",
    "feas.remove('home_ownership_A')\n",
    "feas.remove('purpose_m')"
   ]
  },
  {
   "cell_type": "code",
   "execution_count": 49,
   "metadata": {
    "collapsed": false,
    "deletable": true,
    "editable": true
   },
   "outputs": [],
   "source": [
    "np2 = df4[feas].fillna(0).as_matrix()"
   ]
  },
  {
   "cell_type": "code",
   "execution_count": 50,
   "metadata": {
    "collapsed": false,
    "deletable": true,
    "editable": true,
    "scrolled": true
   },
   "outputs": [
    {
     "name": "stdout",
     "output_type": "stream",
     "text": [
      "1655\n",
      "3442\n",
      "5613\n",
      "6738\n",
      "7908\n",
      "11939\n",
      "12699\n",
      "17672\n",
      "17689\n",
      "17716\n",
      "18481\n",
      "22391\n",
      "23288\n",
      "25396\n",
      "29221\n",
      "31733\n",
      "32342\n",
      "39046\n",
      "42375\n",
      "43158\n",
      "44170\n",
      "45123\n",
      "46889\n",
      "49295\n",
      "54616\n",
      "61032\n",
      "63290\n",
      "65345\n",
      "66599\n",
      "68001\n",
      "77484\n",
      "80678\n",
      "81261\n",
      "85997\n",
      "93084\n",
      "95824\n",
      "97081\n",
      "97317\n",
      "98201\n",
      "99164\n",
      "100642\n",
      "105891\n",
      "111287\n",
      "133070\n",
      "133747\n",
      "134405\n",
      "135397\n",
      "135659\n",
      "135967\n",
      "138856\n",
      "141067\n",
      "143023\n",
      "149998\n",
      "151469\n",
      "152012\n",
      "152091\n",
      "153584\n",
      "154398\n",
      "154994\n",
      "159498\n",
      "162079\n",
      "163537\n",
      "166932\n",
      "167443\n",
      "175476\n",
      "176992\n",
      "179085\n",
      "179146\n",
      "180907\n",
      "180926\n",
      "185274\n",
      "186742\n",
      "188351\n",
      "196705\n",
      "200305\n",
      "200658\n",
      "202744\n",
      "202910\n",
      "204311\n",
      "211020\n",
      "211173\n",
      "213280\n",
      "213365\n",
      "217574\n",
      "217719\n",
      "217862\n",
      "223570\n",
      "224829\n",
      "225402\n",
      "227125\n",
      "228009\n",
      "228154\n",
      "228443\n",
      "229363\n",
      "230667\n",
      "231894\n",
      "236109\n",
      "239875\n",
      "240034\n",
      "243559\n",
      "244104\n",
      "244746\n",
      "246012\n",
      "250669\n",
      "253992\n",
      "255898\n",
      "259327\n",
      "259843\n",
      "259908\n",
      "264569\n",
      "265833\n",
      "269088\n",
      "270483\n",
      "289801\n",
      "291157\n",
      "298663\n",
      "300639\n",
      "300939\n",
      "301435\n",
      "303031\n",
      "305056\n",
      "305109\n",
      "307647\n",
      "317715\n",
      "319284\n",
      "326916\n",
      "331429\n",
      "334555\n",
      "335598\n",
      "341298\n",
      "343027\n",
      "343579\n",
      "347205\n",
      "349459\n",
      "351686\n",
      "352752\n",
      "355801\n",
      "356091\n",
      "357273\n",
      "357808\n",
      "360294\n",
      "362391\n",
      "363131\n",
      "364989\n",
      "367362\n",
      "370143\n",
      "375369\n",
      "384949\n",
      "385255\n",
      "387455\n",
      "387815\n",
      "390736\n",
      "400870\n",
      "400944\n",
      "401184\n",
      "404914\n"
     ]
    }
   ],
   "source": [
    "for i in range(len(np2)):\n",
    "    try:\n",
    "        np2[i][29] = float(np2[i][29].strip('%'))\n",
    "    except:\n",
    "        print(i)"
   ]
  },
  {
   "cell_type": "code",
   "execution_count": 51,
   "metadata": {
    "collapsed": false,
    "deletable": true,
    "editable": true
   },
   "outputs": [],
   "source": [
    "np1 = df4.pop('loan_status').as_matrix()"
   ]
  },
  {
   "cell_type": "code",
   "execution_count": 52,
   "metadata": {
    "collapsed": false,
    "deletable": true,
    "editable": true
   },
   "outputs": [],
   "source": [
    "np2 = np2.astype('float')"
   ]
  },
  {
   "cell_type": "code",
   "execution_count": 53,
   "metadata": {
    "collapsed": false,
    "deletable": true,
    "editable": true
   },
   "outputs": [
    {
     "name": "stdout",
     "output_type": "stream",
     "text": [
      "[  4.63240301e+00   2.15445063e+00   5.66747726e-01   1.91373577e+01\n",
      "   8.06827221e+00   3.24701584e-01   9.66853698e+03   2.84610732e-01\n",
      "   1.74324071e+05   2.21364372e+04   4.95720334e-01   1.87114333e+02\n",
      "   6.05473825e+00   1.31813427e+04   3.95711693e-01   1.40737434e+05\n",
      "   1.35344904e+01   1.69653504e+00   2.47661750e+01   3.38725224e+04\n",
      "   7.71116716e+04   2.44189061e-01   4.68089882e+01   1.23925689e+02\n",
      "   1.17150214e+01   5.91971461e-01   6.14412588e+01   5.73384355e+00\n",
      "   1.77503533e+04   5.36893340e+01   1.52133032e+04   5.84732444e+00\n",
      "   5.79570429e+00   8.62304132e+00   2.32612855e-01   4.34102158e+04\n",
      "   1.32530150e-01   5.24370764e-01   1.19366012e+01   1.18823740e+01\n",
      "   8.42582612e+00   6.86203108e-02   8.14874276e+00   1.75097382e+01\n",
      "   5.21851426e+04   4.80344645e+00   9.39530187e+01   1.02300354e+01\n",
      "   3.73895397e+00   1.28632408e+01   2.54858896e+01   3.43864413e-01\n",
      "   2.58282036e+02   1.48907358e+01   9.37033242e-02   1.08563035e-01\n",
      "   6.58750046e-02   1.04701831e-02   6.09299972e-03   1.39603807e+01\n",
      "   6.42332523e-02   4.05870808e-03   7.18420955e-04]\n",
      "[  3.18009733e+00   1.84517734e+00   8.62898035e-01   2.38990077e+01\n",
      "   9.25312878e+00   4.68263244e-01   1.48710878e+04   4.51228837e-01\n",
      "   1.76429699e+05   2.19833551e+04   4.99981684e-01   9.54345537e+01\n",
      "   5.97817816e+00   1.57461941e+04   4.89003015e-01   1.55848014e+05\n",
      "   1.72504961e+01   1.99473086e+00   3.23267439e+01   3.79358907e+04\n",
      "   7.38646103e+04   4.29605358e-01   3.61684982e+01   5.55685357e+01\n",
      "   2.75289625e+01   4.91468463e-01   2.81233488e+01   3.80430237e+00\n",
      "   2.43131948e+04   2.39109662e+01   8.57122861e+03   3.43561199e+00\n",
      "   3.34216274e+00   7.44837280e+00   6.48795337e-01   4.39699558e+04\n",
      "   3.84397523e-01   1.32854520e+00   5.62999783e+00   5.61185707e+00\n",
      "   4.66291367e+00   2.52807365e-01   4.82701653e+00   2.32081462e+01\n",
      "   4.91320917e+04   3.03893843e+00   8.85653830e+00   2.09522227e+01\n",
      "   2.30483300e+00   2.18945217e+01   1.20882843e+01   9.21630964e-01\n",
      "   2.26613963e+03   8.29305995e+00   5.21393050e-01   3.11090183e-01\n",
      "   2.48063477e-01   1.17187627e-01   8.66744910e-02   7.91335687e+02\n",
      "   4.45315459e-01   6.82238778e-02   2.93444246e-02]\n"
     ]
    }
   ],
   "source": [
    "mean = np.mean(np2, axis=0)\n",
    "print(mean)\n",
    "std = np.std(np2, axis=0)\n",
    "print(std)"
   ]
  },
  {
   "cell_type": "code",
   "execution_count": 54,
   "metadata": {
    "collapsed": false,
    "deletable": true,
    "editable": true
   },
   "outputs": [],
   "source": [
    "average = 0  \n",
    "#testNum = 10  \n",
    "#for i in range(0, testNum):  \n",
    "    #加载数据集，切分数据集80%训练，20%测试  \n",
    "x_train, x_test, y_train, y_test   = train_test_split(np2, np1, test_size = 0.2)  \n",
    "X_resampled =x_train\n",
    "y_resampled =y_train"
   ]
  },
  {
   "cell_type": "code",
   "execution_count": 55,
   "metadata": {
    "collapsed": true,
    "deletable": true,
    "editable": true
   },
   "outputs": [],
   "source": [
    "sm = SMOTEENN()\n",
    "X_resampled, y_resampled = sm.fit_sample(x_train, y_train)\n",
    "    #训练LR分类器  "
   ]
  },
  {
   "cell_type": "code",
   "execution_count": 56,
   "metadata": {
    "collapsed": true,
    "deletable": true,
    "editable": true
   },
   "outputs": [],
   "source": [
    "X_resampled_nor = (X_resampled - mean)/std\n",
    "    # 注：是除以标准差\n",
    "x_test_nor = (x_test - mean) / std"
   ]
  },
  {
   "cell_type": "code",
   "execution_count": 57,
   "metadata": {
    "collapsed": false,
    "deletable": true,
    "editable": true
   },
   "outputs": [
    {
     "name": "stdout",
     "output_type": "stream",
     "text": [
      "0.646615891669\n"
     ]
    }
   ],
   "source": [
    "clf = LogisticRegression(C=0.1, penalty='l2')  \n",
    "clf.fit(X_resampled_nor, y_resampled)  \n",
    "y_pred = clf.predict(x_test_nor)  \n",
    "p = np.mean(y_pred == y_test)  \n",
    "print(p)   "
   ]
  },
  {
   "cell_type": "code",
   "execution_count": 58,
   "metadata": {
    "collapsed": true,
    "deletable": true,
    "editable": true
   },
   "outputs": [],
   "source": [
    "#绘制R/P曲线  \n",
    "def plot_pr(auc_score, precision, recall, label=None):  \n",
    "    pylab.figure(num=None, figsize=(6, 5))  \n",
    "    pylab.xlim([0.0, 1.0])  \n",
    "    pylab.ylim([0.0, 1.0])  \n",
    "    pylab.xlabel('Recall')  \n",
    "    pylab.ylabel('Precision')  \n",
    "    pylab.title('P/R (AUC=%0.2f) / %s' % (auc_score, label))  \n",
    "    pylab.fill_between(recall, precision, alpha=0.5)  \n",
    "    pylab.grid(True, linestyle='-', color='0.75')  \n",
    "    pylab.plot(recall, precision, lw=1)      \n",
    "    pylab.show() "
   ]
  },
  {
   "cell_type": "code",
   "execution_count": 59,
   "metadata": {
    "collapsed": false,
    "deletable": true,
    "editable": true
   },
   "outputs": [
    {
     "name": "stdout",
     "output_type": "stream",
     "text": [
      "[ 0.48527266  0.46302656  0.078206   ...,  0.21368037  0.42516245\n",
      "  0.35817592]\n"
     ]
    }
   ],
   "source": [
    "answer = clf.predict_proba(x_test_nor)[:,1]\n",
    "print(answer)"
   ]
  },
  {
   "cell_type": "code",
   "execution_count": 60,
   "metadata": {
    "collapsed": true,
    "deletable": true,
    "editable": true
   },
   "outputs": [],
   "source": [
    "fpr, tpr, thresholds = roc_curve(y_test, answer)"
   ]
  },
  {
   "cell_type": "code",
   "execution_count": 61,
   "metadata": {
    "collapsed": false,
    "deletable": true,
    "editable": true
   },
   "outputs": [
    {
     "data": {
      "image/png": "[encoded data removed]",
      "text/plain": [
       "<matplotlib.figure.Figure at 0x7fdc727aead0>"
      ]
     },
     "metadata": {},
     "output_type": "display_data"
    },
    {
     "name": "stdout",
     "output_type": "stream",
     "text": [
      "0.695587044792\n"
     ]
    }
   ],
   "source": [
    "plot_pr(0.5, tpr, fpr, \"pos\")  \n",
    "roc_auc = auc(fpr, tpr)  \n",
    "print(roc_auc)"
   ]
  },
  {
   "cell_type": "code",
   "execution_count": 62,
   "metadata": {
    "collapsed": false,
    "deletable": true,
    "editable": true
   },
   "outputs": [
    {
     "name": "stdout",
     "output_type": "stream",
     "text": [
      "funded_amnt\n",
      "funded_amnt_inv\n",
      "int_rate\n",
      "installment\n",
      "grade\n",
      "sub_grade\n",
      "initial_list_status\n",
      "out_prncp\n",
      "out_prncp_inv\n",
      "total_pymnt\n",
      "total_pymnt_inv\n",
      "total_rec_prncp\n",
      "total_rec_int\n",
      "total_rec_late_fee\n",
      "recoveries\n",
      "collection_recovery_fee\n",
      "last_pymnt_d\n",
      "last_pymnt_amnt\n",
      "next_pymnt_d\n",
      "last_credit_pull_d\n",
      "last_fico_range_high\n",
      "last_fico_range_low\n",
      "collections_12_mths_ex_med\n",
      "mths_since_last_major_derog\n",
      "policy_code\n",
      "application_type\n",
      "annual_inc_joint\n",
      "dti_joint\n",
      "verification_status_joint\n",
      "url\n",
      "2620\n",
      "3467\n",
      "6683\n",
      "9742\n",
      "10424\n",
      "10970\n",
      "11453\n",
      "13877\n",
      "14054\n",
      "14279\n",
      "14985\n",
      "15598\n",
      "19286\n",
      "20935\n",
      "25718\n",
      "26020\n",
      "32782\n",
      "33657\n",
      "35298\n",
      "36030\n",
      "36587\n",
      "38526\n",
      "38634\n",
      "40143\n",
      "41520\n",
      "41879\n",
      "42703\n",
      "46213\n",
      "46316\n",
      "47283\n",
      "51712\n",
      "54477\n",
      "54767\n",
      "55716\n",
      "57366\n",
      "58682\n",
      "58874\n",
      "59644\n",
      "61653\n",
      "70672\n",
      "72183\n",
      "73726\n",
      "79152\n",
      "83592\n",
      "83905\n",
      "85102\n",
      "85224\n",
      "86675\n",
      "91785\n",
      "93282\n"
     ]
    }
   ],
   "source": [
    "t_df = test_df\n",
    "t_df1 = t_df\n",
    "term_n = {\n",
    "    ' 36 months': 0,\n",
    "    ' 60 months': 1\n",
    "}\n",
    "t_df1['term_n'] = t_df1['term'].map(term_n)\n",
    "emp_length_n = {\n",
    "    '< 1 year': 0.5,\n",
    "    '1 year': 1,\n",
    "    '2 years': 2,\n",
    "    '3 years': 3,\n",
    "    '4 years': 4,\n",
    "    '5 years': 5,\n",
    "    '6 years': 6,\n",
    "    '7 years': 7,\n",
    "    '8 years': 8,\n",
    "    '9 years': 9,\n",
    "    '10+ years': 10,\n",
    "    'n/a': 0\n",
    "}\n",
    "t_df1['emp_length_n'] = t_df1['emp_length'].map(emp_length_n)\n",
    "verification_status_n = {\n",
    "    'Not Verified': 1,\n",
    "    'Source Verified': 0,\n",
    "    'Verified': 0\n",
    "}\n",
    "t_df1['verification_status_n'] = t_df1['verification_status'].map(verification_status_n)\n",
    "t_df4 = t_df1\n",
    "del t_df4['term']\n",
    "t_df4.rename(columns={'term_n':'term'}, inplace = True)\n",
    "del t_df4['emp_length']\n",
    "t_df4.rename(columns={'emp_length_n':'emp_length'}, inplace = True)\n",
    "del t_df4['verification_status']\n",
    "t_df4.rename(columns={'verification_status_n':'verification_status'}, inplace = True)\n",
    "t_df4['verification_status']\n",
    "home_ownership_R = {\n",
    "    'RENT': 1,\n",
    "    'MORTGAGE': 0,\n",
    "    'OWN': 0,\n",
    "    'ANY': 0,\n",
    "}\n",
    "home_ownership_M = {\n",
    "    'RENT': 0,\n",
    "    'MORTGAGE': 1,\n",
    "    'OWN': 0,\n",
    "    'ANY': 0,\n",
    "}\n",
    "home_ownership_O = {\n",
    "    'RENT': 0,\n",
    "    'MORTGAGE': 0,\n",
    "    'OWN': 1,\n",
    "    'ANY': 0,\n",
    "}\n",
    "home_ownership_A = {\n",
    "    'RENT': 0,\n",
    "    'MORTGAGE': 0,\n",
    "    'OWN': 0,\n",
    "    'ANY': 1,\n",
    "}\n",
    "t_df4['home_ownership_R'] = t_df4['home_ownership'].map(home_ownership_R)\n",
    "t_df4['home_ownership_M'] = t_df4['home_ownership'].map(home_ownership_M)\n",
    "t_df4['home_ownership_0'] = t_df4['home_ownership'].map(home_ownership_O)\n",
    "t_df4['home_ownership_A'] = t_df4['home_ownership'].map(home_ownership_A)\n",
    "purpose_d = {\n",
    "    'debt_consolidation': 1,\n",
    "    'credit_card': 0,\n",
    "    'home_improvement': 0,\n",
    "    'moving': 0,\n",
    "    'major_purchase': 0,\n",
    "    'house': 0,\n",
    "    'car': 0,\n",
    "    'other': 0,\n",
    "    'medical': 0,\n",
    "    'small_business': 0,\n",
    "    'vacation': 0,\n",
    "    'renewable_energy': 0,\n",
    "    'wedding': 0,\n",
    "    'educational': 0,\n",
    "}\n",
    "purpose_c = {\n",
    "    'debt_consolidation': 0,\n",
    "    'credit_card': 1,\n",
    "    'home_improvement': 0,\n",
    "    'moving': 0,\n",
    "    'major_purchase': 0,\n",
    "    'house': 0,\n",
    "    'car': 0,\n",
    "    'other': 0,\n",
    "    'medical': 0,\n",
    "    'small_business': 0,\n",
    "    'vacation': 0,\n",
    "    'renewable_energy': 0,\n",
    "    'wedding': 0,\n",
    "    'educational': 0,\n",
    "}\n",
    "purpose_h = {\n",
    "    'debt_consolidation': 0,\n",
    "    'credit_card': 0,\n",
    "    'home_improvement': 1,\n",
    "    'moving': 1,\n",
    "    'major_purchase': 0,\n",
    "    'house': 0,\n",
    "    'car': 0,\n",
    "    'other': 0,\n",
    "    'medical': 0,\n",
    "    'small_business': 0,\n",
    "    'vacation': 0,\n",
    "    'renewable_energy': 0,\n",
    "    'wedding': 0,\n",
    "    'educational': 0,\n",
    "}\n",
    "purpose_m = {\n",
    "    'debt_consolidation': 0,\n",
    "    'credit_card': 0,\n",
    "    'home_improvement': 0,\n",
    "    'moving': 0,\n",
    "    'major_purchase': 1,\n",
    "    'house': 1,\n",
    "    'car': 1,\n",
    "    'other': 0,\n",
    "    'medical': 0,\n",
    "    'small_business': 0,\n",
    "    'vacation': 0,\n",
    "    'renewable_energy': 0,\n",
    "    'wedding': 0,\n",
    "    'educational': 0,\n",
    "}\n",
    "purpose_o = {\n",
    "    'debt_consolidation': 0,\n",
    "    'credit_card': 0,\n",
    "    'home_improvement': 0,\n",
    "    'moving': 0,\n",
    "    'major_purchase': 0,\n",
    "    'house': 0,\n",
    "    'car': 0,\n",
    "    'other': 1,\n",
    "    'medical': 1,\n",
    "    'small_business': 1,\n",
    "    'vacation': 1,\n",
    "    'renewable_energy': 1,\n",
    "    'wedding': 1,\n",
    "    'educational': 1,\n",
    "}\n",
    "t_df4['purpose_d'] = t_df4['purpose'].map(purpose_d)\n",
    "t_df4['purpose_c'] = t_df4['purpose'].map(purpose_c)\n",
    "t_df4['purpose_h'] = t_df4['purpose'].map(purpose_h)\n",
    "t_df4['purpose_m'] = t_df4['purpose'].map(purpose_m)\n",
    "t_df4['purpose_o'] = t_df4['purpose'].map(purpose_o)\n",
    "del t_df4['earliest_cr_line']\n",
    "del t_df4['addr_state']\n",
    "othercol = ['funded_amnt','funded_amnt_inv', \n",
    "'int_rate', 'installment', 'grade', 'sub_grade', 'initial_list_status', 'out_prncp', 'out_prncp_inv', 'total_pymnt', 'total_pymnt_inv', 'total_rec_prncp', 'total_rec_int', 'total_rec_late_fee', 'recoveries', 'collection_recovery_fee', 'last_pymnt_d', 'last_pymnt_amnt', 'next_pymnt_d', 'last_credit_pull_d', 'last_fico_range_high', 'last_fico_range_low', 'collections_12_mths_ex_med', 'mths_since_last_major_derog', 'policy_code', 'application_type', 'annual_inc_joint'\n",
    "    , 'dti_joint',\n",
    "'verification_status_joint']\n",
    "for list in othercol:\n",
    "    try:\n",
    "        del t_df4[list]\n",
    "    except:\n",
    "        print(list)\n",
    "norecol = ['emp_title', 'pymnt_plan', 'url', 'desc', 'zip_code']\n",
    "for list in norecol:\n",
    "    try:\n",
    "        del t_df4[list]\n",
    "    except:\n",
    "        print(list)\n",
    "del t_df4['title']\n",
    "del t_df4['issue_d']\n",
    "del t_df4['home_ownership']\n",
    "del t_df4['purpose']\n",
    "feas = ['mths_since_rcnt_il', 'open_il_12m', 'acc_open_past_24mths', 'open_il_24m', 'fico_range_low', 'fico_range_high', 'num_tl_op_past_12m', 'open_acc_6m', 'inq_last_12m', 'inq_last_6mths', 'open_rv_24m', 'il_util', 'inq_fi', 'dti', 'mo_sin_rcnt_tl', 'term', 'bc_open_to_buy', 'open_rv_12m', 'verification_status', 'tot_hi_cred_lim', 'total_bc_limit', 'home_ownership_M', 'mo_sin_old_rev_tl_op', 'mths_since_recent_inq', 'all_util', 'avg_cur_bal', 'home_ownership_R', 'tot_cur_bal', 'mo_sin_rcnt_rev_tl_op', 'mort_acc', 'max_bal_bc', 'mths_since_recent_bc', 'total_rev_hi_lim', 'annual_inc', 'purpose_c', 'percent_bc_gt_75', 'mo_sin_old_il_acct', 'mths_since_last_record', 'purpose_d', 'bc_util', 'emp_length', 'revol_bal', 'revol_util', 'total_cu_tl', 'total_bal_il', 'loan_amnt', 'num_actv_rev_tl', 'open_il_6m', 'num_rev_tl_bal_gt_0', 'num_il_tl', 'pub_rec', 'total_il_high_credit_limit', 'pub_rec_bankruptcies', 'num_accts_ever_120_pd', 'open_acc', 'num_sats', 'num_op_rev_tl', 'purpose_o', 'num_bc_tl', 'mths_since_last_delinq', 'total_bal_ex_mort', 'num_bc_sats', 'pct_tl_nvr_dlq', 'mths_since_recent_bc_dlq', 'num_actv_bc_tl', 'mths_since_recent_revol_delinq', 'total_acc', 'delinq_2yrs', 'tot_coll_amt', 'num_rev_accts', 'num_tl_90g_dpd_24m', 'home_ownership_0', 'purpose_h', 'purpose_m', 'chargeoff_within_12_mths', 'acc_now_delinq', 'delinq_amnt', 'tax_liens', 'num_tl_30dpd', 'num_tl_120dpd_2m', 'home_ownership_A']\n",
    "feasp = ['total_cu_tl', 'total_bal_il', 'open_rv_24m', 'open_rv_12m', 'open_il_6m', 'open_il_24m', 'open_il_12m', 'open_acc_6m', 'max_bal_bc', 'inq_last_12m', 'inq_fi', 'all_util', 'mths_since_rcnt_il', 'il_util', 'fico_range_low', 'fico_range_high']\n",
    "for fea in feasp:\n",
    "    feas.remove(fea)\n",
    "feas.remove('home_ownership_A')\n",
    "feas.remove('purpose_m')\n",
    "t_np2 = t_df4[feas].fillna(0).as_matrix()\n",
    "for i in range(len(t_np2)):\n",
    "    try:\n",
    "        t_np2[i][29] = float(t_np2[i][29].strip('%'))\n",
    "    except:\n",
    "        print(i)\n",
    "t_np2 = t_np2.astype('float')\n",
    "X_test_nor = (t_np2 - mean)/std\n",
    "\n",
    "answer = clf.predict_proba(X_test_nor)[:,1]"
   ]
  },
  {
   "cell_type": "markdown",
   "metadata": {
    "deletable": true,
    "editable": true
   },
   "source": [
    "## Output the results\n",
    "You do not need to modify the following lines. \n",
    "\n",
    "**Please do not modify the file name \"antifraud_proj1_result.csv\".**"
   ]
  },
  {
   "cell_type": "code",
   "execution_count": 63,
   "metadata": {
    "collapsed": false,
    "deletable": true,
    "editable": true
   },
   "outputs": [],
   "source": [
    "d = {'Predict': answer}\n",
    "test_predict = pd.DataFrame(data=d)\n",
    "test_predict.to_csv(\"antifraud_proj1_result.csv\")"
   ]
  }
 ],
 "metadata": {
  "anaconda-cloud": {},
  "kernelspec": {
   "display_name": "Python 2",
   "language": "python",
   "name": "python2"
  },
  "language_info": {
   "codemirror_mode": {
    "name": "ipython",
    "version": 2
   },
   "file_extension": ".py",
   "mimetype": "text/x-python",
   "name": "python",
   "nbconvert_exporter": "python",
   "pygments_lexer": "ipython2",
   "version": "2.7.6"
  }
 },
 "nbformat": 4,
 "nbformat_minor": 2
}
