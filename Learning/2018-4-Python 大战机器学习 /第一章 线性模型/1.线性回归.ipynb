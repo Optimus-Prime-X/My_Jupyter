{
 "cells": [
  {
   "cell_type": "markdown",
   "metadata": {
    "nbpresent": {
     "id": "9a9dd79f-487a-4d90-95d8-fc83c27f1a0b"
    }
   },
   "source": [
    "在线性回归问题中，使用sklearn包中自带的糖尿病数据集：\n",
    "1. 数据集有442个样本\n",
    "2. 每个样本有10个特征\n"
   ]
  },
  {
   "cell_type": "code",
   "execution_count": 9,
   "metadata": {
    "nbpresent": {
     "id": "17146eb5-597c-468d-bf18-c54e560679d6"
    }
   },
   "outputs": [],
   "source": [
    "import matplotlib.pyplot as plt\n",
    "import numpy as np\n",
    "from sklearn import datasets, linear_model,discriminant_analysis,cross_validation"
   ]
  },
  {
   "cell_type": "code",
   "execution_count": 13,
   "metadata": {
    "nbpresent": {
     "id": "eeffbb42-0ec7-4c29-b11b-c9731aca8e79"
    }
   },
   "outputs": [],
   "source": [
    "def load_data():\n",
    "    diabetes = datasets.load_diabetes()\n",
    "    return cross_validation.train_test_split(diabetes.data,diabetes.target,test_size = 0.25,random_state = 0)\n"
   ]
  },
  {
   "cell_type": "markdown",
   "metadata": {
    "nbpresent": {
     "id": "a2ae8100-0e73-4ee5-b442-89d034aeae24"
    }
   },
   "source": [
    "### 线性回归模型\n",
    "LinearRegressing 是sklearn提供的线性回归模型，print出分别：\n",
    "1. 回归系数、截距\n",
    "2. 测试均方差\n",
    "3. 预测性能得分:\n",
    "   $1-\\frac{\\Sigma_{T_{test}}(y_i-\\hat{y}_i)^2}{(y_i-\\hat{y}_i)^2}$\n",
    "    "
   ]
  },
  {
   "cell_type": "code",
   "execution_count": 16,
   "metadata": {
    "nbpresent": {
     "id": "1d6cb59e-0885-4bc6-96ea-54bdd49a56dd"
    }
   },
   "outputs": [],
   "source": [
    "def test_LinearRegressing(*data):\n",
    "    X_train,X_test,Y_train,Y_test = data\n",
    "    regr = linear_model.LinearRegression()\n",
    "    regr.fit(X_train,Y_train)\n",
    "    print('Coefficients:%s, intercept %.2f'%(regr.coef_,regr.intercept_))\n",
    "    print(\"Residual sum of squares: %.2f\"% np.mean((regr.predict(X_test) - Y_test) ** 2))\n",
    "    print('Score: %.2f' % regr.score(X_test, Y_test))\n",
    "    "
   ]
  },
  {
   "cell_type": "code",
   "execution_count": 23,
   "metadata": {
    "nbpresent": {
     "id": "6dce8e1a-91ec-4375-bc9e-26bfb54f7f1d"
    }
   },
   "outputs": [
    {
     "name": "stdout",
     "output_type": "stream",
     "text": [
      "Coefficients:[ -43.26774487 -208.67053951  593.39797213  302.89814903 -560.27689824\n",
      "  261.47657106   -8.83343952  135.93715156  703.22658427   28.34844354], intercept 153.07\n",
      "Residual sum of squares: 3180.20\n",
      "Score: 0.36\n"
     ]
    }
   ],
   "source": [
    "X_train, X_test, Y_train, Y_test = load_data()\n",
    "test_LinearRegressing(X_train,X_test,Y_train,Y_test)"
   ]
  },
  {
   "cell_type": "markdown",
   "metadata": {
    "nbpresent": {
     "id": "0cea242f-a96e-4977-91d2-ac0a02a08153"
    }
   },
   "source": [
    "### 线性模型的正则化\n",
    "当多元线性回归的$\\vec{x}^T\\vec{x}$不是满秩的时候，需要引入正则向，常用的正则化方法有岭回归、LASSO和Elastic Net"
   ]
  },
  {
   "cell_type": "markdown",
   "metadata": {
    "nbpresent": {
     "id": "561a255b-3dd5-4955-ad1e-7e98b1ac9138"
    }
   },
   "source": [
    "### 岭回归"
   ]
  },
  {
   "cell_type": "code",
   "execution_count": 29,
   "metadata": {
    "nbpresent": {
     "id": "2026596a-9b28-43c1-a17e-e1032567d6a3"
    }
   },
   "outputs": [],
   "source": [
    "def test_Ridge(*data):\n",
    "    X_train,X_test,y_train,y_test=data\n",
    "    regr = linear_model.Ridge()\n",
    "    regr.fit(X_train, y_train)\n",
    "    print('Coefficients:%s, intercept %.2f'%(regr.coef_,regr.intercept_))\n",
    "    print(\"Residual sum of squares: %.2f\"% np.mean((regr.predict(X_test) - y_test) ** 2))\n",
    "    print('Score: %.2f' % regr.score(X_test, y_test))"
   ]
  },
  {
   "cell_type": "code",
   "execution_count": 30,
   "metadata": {
    "nbpresent": {
     "id": "b8c42bb4-73ad-4e92-b3db-3a25bedff277"
    }
   },
   "outputs": [
    {
     "name": "stdout",
     "output_type": "stream",
     "text": [
      "Coefficients:[  21.19927911  -60.47711393  302.87575204  179.41206395    8.90911449\n",
      "  -28.8080548  -149.30722541  112.67185758  250.53760873   99.57749017], intercept 152.45\n",
      "Residual sum of squares: 3192.33\n",
      "Score: 0.36\n"
     ]
    }
   ],
   "source": [
    "X_train, X_test, Y_train, Y_test = load_data()\n",
    "test_Ridge(X_train,X_test,Y_train,Y_test)"
   ]
  },
  {
   "cell_type": "code",
   "execution_count": 36,
   "metadata": {
    "nbpresent": {
     "id": "85328235-5604-40a4-84fa-7b17b9c439d4"
    }
   },
   "outputs": [],
   "source": [
    "def test_Ridge_alpha(*data):\n",
    "    '''\n",
    "    测试 Ridge 的预测性能随 alpha 参数的影响\n",
    "    :param data: 可变参数。它是一个元组，这里要求其元素依次为：训练样本集、测试样本集、训练样本的值、测试样本的值\n",
    "    :return: None\n",
    "    '''\n",
    "    X_train,X_test,y_train,y_test=data\n",
    "    alphas=[0.01,0.02,0.05,0.1,0.2,0.5,1,2,5,10,20,50,100,200,500,1000]\n",
    "    scores=[]\n",
    "    for i,alpha in enumerate(alphas):#enumerate 函数的用法可以学习\n",
    "        regr = linear_model.Ridge(alpha=alpha)\n",
    "        regr.fit(X_train, y_train)\n",
    "        scores.append(regr.score(X_test, y_test))\n",
    "    ## 绘图\n",
    "    fig=plt.figure()\n",
    "    ax=fig.add_subplot(1,1,1)\n",
    "    ax.plot(alphas,scores)\n",
    "    ax.set_xlabel(r\"$\\alpha$\")\n",
    "    ax.set_ylabel(r\"score\")\n",
    "    ax.set_xscale('log')\n",
    "    ax.set_title(\"Ridge\")\n",
    "    plt.show()"
   ]
  },
  {
   "cell_type": "code",
   "execution_count": 37,
   "metadata": {
    "nbpresent": {
     "id": "3865c751-24b1-4a8e-a126-885f6ec9a62c"
    }
   },
   "outputs": [
    {
     "data": {
      "image/png": "[encoded data removed]",
      "text/plain": [
       "<Figure size 432x288 with 1 Axes>"
      ]
     },
     "metadata": {},
     "output_type": "display_data"
    }
   ],
   "source": [
    "X_train, X_test, Y_train, Y_test = load_data()\n",
    "test_Ridge_alpha(X_train,X_test,Y_train,Y_test)"
   ]
  },
  {
   "cell_type": "markdown",
   "metadata": {
    "nbpresent": {
     "id": "5ee0d853-6e6f-405a-b5e2-7ce2426c1b26"
    }
   },
   "source": [
    "### LASSO回归\n",
    "Lasso回归与岭回归的不同之处在于它的惩罚项是基于L1范数，而岭回归是L2范数"
   ]
  },
  {
   "cell_type": "code",
   "execution_count": null,
   "metadata": {
    "nbpresent": {
     "id": "7397e333-e040-4292-912a-37b31b12d921"
    }
   },
   "outputs": [],
   "source": []
  }
 ],
 "metadata": {
  "kernelspec": {
   "display_name": "Python [conda env:py3]",
   "language": "python",
   "name": "conda-env-py3-py"
  },
  "language_info": {
   "codemirror_mode": {
    "name": "ipython",
    "version": 3
   },
   "file_extension": ".py",
   "mimetype": "text/x-python",
   "name": "python",
   "nbconvert_exporter": "python",
   "pygments_lexer": "ipython3",
   "version": "3.6.4"
  }
 },
 "nbformat": 4,
 "nbformat_minor": 2
}
